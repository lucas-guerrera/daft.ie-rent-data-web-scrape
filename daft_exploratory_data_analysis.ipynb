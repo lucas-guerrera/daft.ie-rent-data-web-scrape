{
 "cells": [
  {
   "cell_type": "code",
   "execution_count": 426,
   "id": "31489bd5-7157-4b56-af35-de00bdaccbaa",
   "metadata": {},
   "outputs": [],
   "source": [
    "import pandas as pd\n",
    "import numpy as np\n",
    "import matplotlib.pyplot as plt\n",
    "import plotly.express as px"
   ]
  },
  {
   "cell_type": "code",
   "execution_count": 427,
   "id": "4bc131fd-3a0c-48ea-9d20-e0c13cbd860d",
   "metadata": {},
   "outputs": [],
   "source": [
    "df = pd.read_csv(r'C:\\Users\\Odafaz\\Desktop\\Daft Project\\listing.csv')\n",
    "pd.set_option('display.max_colwidth', None)"
   ]
  },
  {
   "cell_type": "markdown",
   "id": "61e69b93-d4a0-4609-895e-c3bfc6f9ad8d",
   "metadata": {},
   "source": [
    "# Questions about the data\n",
    "\n",
    "- Are there any obvious patterns or anomalies?\n",
    "- How many rows and columns does the dataset have?\n",
    "- What are the data types of the columns? Are they appropriate for the intended analysis?\n",
    "- Are there any missing values in the dataset? If so, how prevalent are they and how should they be handled?\n",
    "- Are there any duplicated records in the dataset?\n",
    "- Are there any outliers or extreme values that need to be addressed?"
   ]
  },
  {
   "cell_type": "code",
   "execution_count": 428,
   "id": "d347744b-4de1-419b-8d6f-f4cf15f774ef",
   "metadata": {
    "tags": []
   },
   "outputs": [
    {
     "data": {
      "text/html": [
       "<div>\n",
       "<style scoped>\n",
       "    .dataframe tbody tr th:only-of-type {\n",
       "        vertical-align: middle;\n",
       "    }\n",
       "\n",
       "    .dataframe tbody tr th {\n",
       "        vertical-align: top;\n",
       "    }\n",
       "\n",
       "    .dataframe thead th {\n",
       "        text-align: right;\n",
       "    }\n",
       "</style>\n",
       "<table border=\"1\" class=\"dataframe\">\n",
       "  <thead>\n",
       "    <tr style=\"text-align: right;\">\n",
       "      <th></th>\n",
       "      <th>daft_id</th>\n",
       "      <th>date_entered</th>\n",
       "      <th>views</th>\n",
       "      <th>type</th>\n",
       "      <th>rent</th>\n",
       "      <th>num_bedroom</th>\n",
       "      <th>num_bathroom</th>\n",
       "      <th>available_from</th>\n",
       "      <th>furnished</th>\n",
       "      <th>lease</th>\n",
       "      <th>ber_rating</th>\n",
       "      <th>address</th>\n",
       "      <th>distance_from_city_centre</th>\n",
       "      <th>latitude</th>\n",
       "      <th>longitude</th>\n",
       "      <th>region</th>\n",
       "      <th>url</th>\n",
       "      <th>input_date</th>\n",
       "      <th>property_id</th>\n",
       "    </tr>\n",
       "  </thead>\n",
       "  <tbody>\n",
       "    <tr>\n",
       "      <th>0</th>\n",
       "      <td>25306100</td>\n",
       "      <td>05/07/2023</td>\n",
       "      <td>3,138</td>\n",
       "      <td>House</td>\n",
       "      <td>5500</td>\n",
       "      <td>3</td>\n",
       "      <td>3</td>\n",
       "      <td>Sep 1st, 2023</td>\n",
       "      <td>Yes</td>\n",
       "      <td>Minimum 3 Months</td>\n",
       "      <td>B1</td>\n",
       "      <td>1 Lucan Road, Dublin 20, Dublin 20</td>\n",
       "      <td>5.250206</td>\n",
       "      <td>53.347949</td>\n",
       "      <td>-6.345977</td>\n",
       "      <td>Dublin 20</td>\n",
       "      <td>https://www.daft.ie/for-rent/house-1-lucan-road-dublin-20-dublin-20/5306100</td>\n",
       "      <td>06/07/2023</td>\n",
       "      <td>2eea2728508e598edcf0a95b20ca891a4d4c9e7e202b7279f131fc5104ab4626</td>\n",
       "    </tr>\n",
       "    <tr>\n",
       "      <th>1</th>\n",
       "      <td>216819617</td>\n",
       "      <td>03/07/2023</td>\n",
       "      <td>692</td>\n",
       "      <td>Apartment</td>\n",
       "      <td>13600</td>\n",
       "      <td>7</td>\n",
       "      <td>7</td>\n",
       "      <td>Immediately</td>\n",
       "      <td>Yes</td>\n",
       "      <td>No Minimum</td>\n",
       "      <td>B1</td>\n",
       "      <td>7 Apartments - 53 Grove Park, Rathmines</td>\n",
       "      <td>1.805450</td>\n",
       "      <td>53.329222</td>\n",
       "      <td>-6.268150</td>\n",
       "      <td>Rathmines</td>\n",
       "      <td>https://www.daft.ie/for-rent/apartment-7-apartments-53-grove-park-rathmines/5322906</td>\n",
       "      <td>06/07/2023</td>\n",
       "      <td>86181031521f3c821f9495257b721988c827bd01afc8ec14862d509bed8b6d3d</td>\n",
       "    </tr>\n",
       "    <tr>\n",
       "      <th>2</th>\n",
       "      <td>25328430</td>\n",
       "      <td>04/07/2023</td>\n",
       "      <td>835</td>\n",
       "      <td>Apartment</td>\n",
       "      <td>3683.333333</td>\n",
       "      <td>2</td>\n",
       "      <td>1</td>\n",
       "      <td>Immediately</td>\n",
       "      <td>Yes</td>\n",
       "      <td>No Minimum</td>\n",
       "      <td>A1</td>\n",
       "      <td>Cows Lane, Temple Bar, Dublin City Centre</td>\n",
       "      <td>0.172660</td>\n",
       "      <td>53.344265</td>\n",
       "      <td>-6.268956</td>\n",
       "      <td>Dublin City Centre</td>\n",
       "      <td>https://www.daft.ie/for-rent/apartment-cows-lane-temple-bar-dublin-city-centre/5328430</td>\n",
       "      <td>06/07/2023</td>\n",
       "      <td>7964f287459a2d66953a5225e739c99c6552c30c50b915bc5d465f94f78befc5</td>\n",
       "    </tr>\n",
       "    <tr>\n",
       "      <th>3</th>\n",
       "      <td>25315011</td>\n",
       "      <td>29/06/2023</td>\n",
       "      <td>2,758</td>\n",
       "      <td>House</td>\n",
       "      <td>3650</td>\n",
       "      <td>3</td>\n",
       "      <td>3</td>\n",
       "      <td>Immediately</td>\n",
       "      <td>Yes</td>\n",
       "      <td>Minimum 6 Months</td>\n",
       "      <td>A2</td>\n",
       "      <td>1 Mercer Green, Dublin 18, Carrickmines, Dublin 18</td>\n",
       "      <td>13.107704</td>\n",
       "      <td>53.246991</td>\n",
       "      <td>-6.159338</td>\n",
       "      <td>Dublin 18</td>\n",
       "      <td>https://www.daft.ie/for-rent/house-1-mercer-green-dublin-18-carrickmines-dublin-18/5315011</td>\n",
       "      <td>06/07/2023</td>\n",
       "      <td>d200ee2ac3f16be3e0745c138e8ba46e18ce8760efc7bec68454fe9447a4a58c</td>\n",
       "    </tr>\n",
       "    <tr>\n",
       "      <th>4</th>\n",
       "      <td>216705866</td>\n",
       "      <td>05/07/2023</td>\n",
       "      <td>541</td>\n",
       "      <td>Apartment</td>\n",
       "      <td>28300</td>\n",
       "      <td>13</td>\n",
       "      <td>10</td>\n",
       "      <td>Immediately</td>\n",
       "      <td>Yes</td>\n",
       "      <td>No Minimum</td>\n",
       "      <td>D2</td>\n",
       "      <td>7 Apartments - 58/59 Abbey Street Middle, Dublin 1</td>\n",
       "      <td>0.455917</td>\n",
       "      <td>53.348011</td>\n",
       "      <td>-6.261931</td>\n",
       "      <td>Dublin 1</td>\n",
       "      <td>https://www.daft.ie/for-rent/apartment-7-apartments-58-59-abbey-street-middle-dublin-1/5311082</td>\n",
       "      <td>06/07/2023</td>\n",
       "      <td>7bf5c80b2f4af9570f4d3bc9fcd0894e1fbb199e7a01941b953cf7bb936406e5</td>\n",
       "    </tr>\n",
       "  </tbody>\n",
       "</table>\n",
       "</div>"
      ],
      "text/plain": [
       "     daft_id date_entered  views       type         rent  num_bedroom  \\\n",
       "0   25306100   05/07/2023  3,138      House         5500            3   \n",
       "1  216819617   03/07/2023    692  Apartment        13600            7   \n",
       "2   25328430   04/07/2023    835  Apartment  3683.333333            2   \n",
       "3   25315011   29/06/2023  2,758      House         3650            3   \n",
       "4  216705866   05/07/2023    541  Apartment        28300           13   \n",
       "\n",
       "   num_bathroom  available_from furnished              lease ber_rating  \\\n",
       "0             3   Sep 1st, 2023       Yes   Minimum 3 Months         B1   \n",
       "1             7     Immediately       Yes         No Minimum         B1   \n",
       "2             1     Immediately       Yes         No Minimum         A1   \n",
       "3             3     Immediately       Yes   Minimum 6 Months         A2   \n",
       "4            10     Immediately       Yes         No Minimum         D2   \n",
       "\n",
       "                                              address  \\\n",
       "0                  1 Lucan Road, Dublin 20, Dublin 20   \n",
       "1             7 Apartments - 53 Grove Park, Rathmines   \n",
       "2           Cows Lane, Temple Bar, Dublin City Centre   \n",
       "3  1 Mercer Green, Dublin 18, Carrickmines, Dublin 18   \n",
       "4  7 Apartments - 58/59 Abbey Street Middle, Dublin 1   \n",
       "\n",
       "   distance_from_city_centre   latitude  longitude               region  \\\n",
       "0                   5.250206  53.347949  -6.345977            Dublin 20   \n",
       "1                   1.805450  53.329222  -6.268150            Rathmines   \n",
       "2                   0.172660  53.344265  -6.268956   Dublin City Centre   \n",
       "3                  13.107704  53.246991  -6.159338            Dublin 18   \n",
       "4                   0.455917  53.348011  -6.261931             Dublin 1   \n",
       "\n",
       "                                                                                              url  \\\n",
       "0                     https://www.daft.ie/for-rent/house-1-lucan-road-dublin-20-dublin-20/5306100   \n",
       "1             https://www.daft.ie/for-rent/apartment-7-apartments-53-grove-park-rathmines/5322906   \n",
       "2          https://www.daft.ie/for-rent/apartment-cows-lane-temple-bar-dublin-city-centre/5328430   \n",
       "3      https://www.daft.ie/for-rent/house-1-mercer-green-dublin-18-carrickmines-dublin-18/5315011   \n",
       "4  https://www.daft.ie/for-rent/apartment-7-apartments-58-59-abbey-street-middle-dublin-1/5311082   \n",
       "\n",
       "   input_date  \\\n",
       "0  06/07/2023   \n",
       "1  06/07/2023   \n",
       "2  06/07/2023   \n",
       "3  06/07/2023   \n",
       "4  06/07/2023   \n",
       "\n",
       "                                                        property_id  \n",
       "0  2eea2728508e598edcf0a95b20ca891a4d4c9e7e202b7279f131fc5104ab4626  \n",
       "1  86181031521f3c821f9495257b721988c827bd01afc8ec14862d509bed8b6d3d  \n",
       "2  7964f287459a2d66953a5225e739c99c6552c30c50b915bc5d465f94f78befc5  \n",
       "3  d200ee2ac3f16be3e0745c138e8ba46e18ce8760efc7bec68454fe9447a4a58c  \n",
       "4  7bf5c80b2f4af9570f4d3bc9fcd0894e1fbb199e7a01941b953cf7bb936406e5  "
      ]
     },
     "execution_count": 428,
     "metadata": {},
     "output_type": "execute_result"
    }
   ],
   "source": [
    "df.head()"
   ]
  },
  {
   "cell_type": "code",
   "execution_count": 429,
   "id": "7a9d58f0-d121-47c3-b9e6-d7104db1ec0d",
   "metadata": {
    "tags": []
   },
   "outputs": [
    {
     "data": {
      "text/plain": [
       "(808, 19)"
      ]
     },
     "execution_count": 429,
     "metadata": {},
     "output_type": "execute_result"
    }
   ],
   "source": [
    "df.shape"
   ]
  },
  {
   "cell_type": "code",
   "execution_count": 430,
   "id": "a88a8d3a-b4e7-4f7f-a9ce-2134c17988a8",
   "metadata": {
    "tags": []
   },
   "outputs": [
    {
     "data": {
      "text/plain": [
       "daft_id                        int64\n",
       "date_entered                  object\n",
       "views                         object\n",
       "type                          object\n",
       "rent                          object\n",
       "num_bedroom                    int64\n",
       "num_bathroom                   int64\n",
       "available_from                object\n",
       "furnished                     object\n",
       "lease                         object\n",
       "ber_rating                    object\n",
       "address                       object\n",
       "distance_from_city_centre    float64\n",
       "latitude                     float64\n",
       "longitude                    float64\n",
       "region                        object\n",
       "url                           object\n",
       "input_date                    object\n",
       "property_id                   object\n",
       "dtype: object"
      ]
     },
     "execution_count": 430,
     "metadata": {},
     "output_type": "execute_result"
    }
   ],
   "source": [
    "df.dtypes"
   ]
  },
  {
   "cell_type": "markdown",
   "id": "b6822c5c-d9e4-4c87-9952-1a0469d11e7c",
   "metadata": {},
   "source": [
    "## Data type conversion:\n",
    "\n",
    "- dates -> datetime64 \n",
    "- views, num_bedroom and num_bathroom -> int32\n",
    "- rent, latitude, longitude and distance_from_city_centre -> float64"
   ]
  },
  {
   "cell_type": "code",
   "execution_count": 431,
   "id": "2560c7e1-4dce-4a54-b7c7-7009aa69257b",
   "metadata": {
    "tags": []
   },
   "outputs": [],
   "source": [
    "df['date_entered'] = pd.to_datetime(df['date_entered'], format ='%d/%m/%Y')\n",
    "df['input_date'] = pd.to_datetime(df['input_date'], format ='%d/%m/%Y')\n",
    "df['views'] = df['views'].str.replace(',', '').astype(int)\n",
    "df['rent'] = pd.to_numeric(df['rent'].astype(str).str.replace(',', ''), errors='coerce')\n",
    "df['num_bedroom']= df['num_bedroom'].astype(int)\n",
    "df['num_bathroom']= df['num_bathroom'].astype(int)"
   ]
  },
  {
   "cell_type": "code",
   "execution_count": 432,
   "id": "ce9dafef-3bc9-4d56-b693-731b15069aa7",
   "metadata": {
    "tags": []
   },
   "outputs": [
    {
     "data": {
      "text/plain": [
       "daft_id                               int64\n",
       "date_entered                 datetime64[ns]\n",
       "views                                 int32\n",
       "type                                 object\n",
       "rent                                float64\n",
       "num_bedroom                           int32\n",
       "num_bathroom                          int32\n",
       "available_from                       object\n",
       "furnished                            object\n",
       "lease                                object\n",
       "ber_rating                           object\n",
       "address                              object\n",
       "distance_from_city_centre           float64\n",
       "latitude                            float64\n",
       "longitude                           float64\n",
       "region                               object\n",
       "url                                  object\n",
       "input_date                   datetime64[ns]\n",
       "property_id                          object\n",
       "dtype: object"
      ]
     },
     "execution_count": 432,
     "metadata": {},
     "output_type": "execute_result"
    }
   ],
   "source": [
    "df.dtypes"
   ]
  },
  {
   "cell_type": "code",
   "execution_count": 433,
   "id": "cb5c037f-3e39-4109-92c7-b076db728894",
   "metadata": {
    "tags": []
   },
   "outputs": [
    {
     "data": {
      "text/plain": [
       "daft_id                       0\n",
       "date_entered                  0\n",
       "views                         0\n",
       "type                          0\n",
       "rent                          1\n",
       "num_bedroom                   0\n",
       "num_bathroom                  0\n",
       "available_from                1\n",
       "furnished                     1\n",
       "lease                         1\n",
       "ber_rating                   55\n",
       "address                       0\n",
       "distance_from_city_centre     0\n",
       "latitude                      0\n",
       "longitude                     0\n",
       "region                        0\n",
       "url                           0\n",
       "input_date                    0\n",
       "property_id                   0\n",
       "dtype: int64"
      ]
     },
     "execution_count": 433,
     "metadata": {},
     "output_type": "execute_result"
    }
   ],
   "source": [
    "df.isna().sum()"
   ]
  },
  {
   "cell_type": "markdown",
   "id": "4aa8bd66-e698-4bbc-a38d-9742f57db3de",
   "metadata": {},
   "source": [
    "## Understanding NaN values\n",
    "\n",
    "- Rows with NaN Rent Values are not useful for this rent price analysis and probably is a result of landlord/property agency misfilling daft.ie listing form. Therefore, will be excluded from the dataset\n",
    "- Rows with NaN BER Rating are expected as this is not a mandatory field. Therefore, I will NOT exclude them."
   ]
  },
  {
   "cell_type": "code",
   "execution_count": 434,
   "id": "b1928520-03f7-4148-83c5-6640454b667c",
   "metadata": {
    "tags": []
   },
   "outputs": [
    {
     "data": {
      "text/html": [
       "<div>\n",
       "<style scoped>\n",
       "    .dataframe tbody tr th:only-of-type {\n",
       "        vertical-align: middle;\n",
       "    }\n",
       "\n",
       "    .dataframe tbody tr th {\n",
       "        vertical-align: top;\n",
       "    }\n",
       "\n",
       "    .dataframe thead th {\n",
       "        text-align: right;\n",
       "    }\n",
       "</style>\n",
       "<table border=\"1\" class=\"dataframe\">\n",
       "  <thead>\n",
       "    <tr style=\"text-align: right;\">\n",
       "      <th></th>\n",
       "      <th>daft_id</th>\n",
       "      <th>date_entered</th>\n",
       "      <th>views</th>\n",
       "      <th>type</th>\n",
       "      <th>rent</th>\n",
       "      <th>num_bedroom</th>\n",
       "      <th>num_bathroom</th>\n",
       "      <th>available_from</th>\n",
       "      <th>furnished</th>\n",
       "      <th>lease</th>\n",
       "      <th>ber_rating</th>\n",
       "      <th>address</th>\n",
       "      <th>distance_from_city_centre</th>\n",
       "      <th>latitude</th>\n",
       "      <th>longitude</th>\n",
       "      <th>region</th>\n",
       "      <th>url</th>\n",
       "      <th>input_date</th>\n",
       "      <th>property_id</th>\n",
       "    </tr>\n",
       "  </thead>\n",
       "  <tbody>\n",
       "    <tr>\n",
       "      <th>171</th>\n",
       "      <td>913040973</td>\n",
       "      <td>2023-04-26</td>\n",
       "      <td>2105</td>\n",
       "      <td>Apartments</td>\n",
       "      <td>NaN</td>\n",
       "      <td>0</td>\n",
       "      <td>0</td>\n",
       "      <td>NaN</td>\n",
       "      <td>NaN</td>\n",
       "      <td>NaN</td>\n",
       "      <td>NaN</td>\n",
       "      <td>Botanic Avenue Student Accommodation, 52 Botanic Avenue, Drumcondra, Drumcondra, Dublin 3</td>\n",
       "      <td>2.607191</td>\n",
       "      <td>53.368338</td>\n",
       "      <td>-6.259015</td>\n",
       "      <td>Dublin 3</td>\n",
       "      <td>https://www.daft.ie/for-rent/botanic-avenue-student-accommodation-52-botanic-avenue-drumcondra-drumcondra-dublin-3/4012633</td>\n",
       "      <td>2023-07-06</td>\n",
       "      <td>f69daefd344c84d77f6b1faf800f7a977d8a83c6c3f5e8f2cca95a38e8930a1a</td>\n",
       "    </tr>\n",
       "  </tbody>\n",
       "</table>\n",
       "</div>"
      ],
      "text/plain": [
       "       daft_id date_entered  views        type  rent  num_bedroom  \\\n",
       "171  913040973   2023-04-26   2105  Apartments   NaN            0   \n",
       "\n",
       "     num_bathroom available_from furnished lease ber_rating  \\\n",
       "171             0            NaN       NaN   NaN        NaN   \n",
       "\n",
       "                                                                                       address  \\\n",
       "171  Botanic Avenue Student Accommodation, 52 Botanic Avenue, Drumcondra, Drumcondra, Dublin 3   \n",
       "\n",
       "     distance_from_city_centre   latitude  longitude     region  \\\n",
       "171                   2.607191  53.368338  -6.259015   Dublin 3   \n",
       "\n",
       "                                                                                                                            url  \\\n",
       "171  https://www.daft.ie/for-rent/botanic-avenue-student-accommodation-52-botanic-avenue-drumcondra-drumcondra-dublin-3/4012633   \n",
       "\n",
       "    input_date  \\\n",
       "171 2023-07-06   \n",
       "\n",
       "                                                          property_id  \n",
       "171  f69daefd344c84d77f6b1faf800f7a977d8a83c6c3f5e8f2cca95a38e8930a1a  "
      ]
     },
     "execution_count": 434,
     "metadata": {},
     "output_type": "execute_result"
    }
   ],
   "source": [
    "df_rent_nan = df[pd.isna(df['rent'])]\n",
    "df_rent_nan.head()"
   ]
  },
  {
   "cell_type": "code",
   "execution_count": 435,
   "id": "a7d2c54b-45ff-4579-b929-42ee7cc05a04",
   "metadata": {
    "tags": []
   },
   "outputs": [
    {
     "data": {
      "text/html": [
       "<div>\n",
       "<style scoped>\n",
       "    .dataframe tbody tr th:only-of-type {\n",
       "        vertical-align: middle;\n",
       "    }\n",
       "\n",
       "    .dataframe tbody tr th {\n",
       "        vertical-align: top;\n",
       "    }\n",
       "\n",
       "    .dataframe thead th {\n",
       "        text-align: right;\n",
       "    }\n",
       "</style>\n",
       "<table border=\"1\" class=\"dataframe\">\n",
       "  <thead>\n",
       "    <tr style=\"text-align: right;\">\n",
       "      <th></th>\n",
       "      <th>daft_id</th>\n",
       "      <th>date_entered</th>\n",
       "      <th>views</th>\n",
       "      <th>type</th>\n",
       "      <th>rent</th>\n",
       "      <th>num_bedroom</th>\n",
       "      <th>num_bathroom</th>\n",
       "      <th>available_from</th>\n",
       "      <th>furnished</th>\n",
       "      <th>lease</th>\n",
       "      <th>ber_rating</th>\n",
       "      <th>address</th>\n",
       "      <th>distance_from_city_centre</th>\n",
       "      <th>latitude</th>\n",
       "      <th>longitude</th>\n",
       "      <th>region</th>\n",
       "      <th>url</th>\n",
       "      <th>input_date</th>\n",
       "      <th>property_id</th>\n",
       "    </tr>\n",
       "  </thead>\n",
       "  <tbody>\n",
       "    <tr>\n",
       "      <th>89</th>\n",
       "      <td>216250919</td>\n",
       "      <td>2023-07-06</td>\n",
       "      <td>6642</td>\n",
       "      <td>House</td>\n",
       "      <td>2100.0</td>\n",
       "      <td>3</td>\n",
       "      <td>1</td>\n",
       "      <td>Immediately</td>\n",
       "      <td>No</td>\n",
       "      <td>No Minimum</td>\n",
       "      <td>NaN</td>\n",
       "      <td>Wheatfield Drive, Clondalkin, Dublin 22</td>\n",
       "      <td>8.345406</td>\n",
       "      <td>53.343446</td>\n",
       "      <td>-6.392514</td>\n",
       "      <td>Dublin 22</td>\n",
       "      <td>https://www.daft.ie/for-rent/house-wheatfield-drive-clondalkin-dublin-22/4737946</td>\n",
       "      <td>2023-07-06</td>\n",
       "      <td>737a9bb29b8850dbce4b55864b9fb3b34c710a164a754236c91cb27a6e085802</td>\n",
       "    </tr>\n",
       "    <tr>\n",
       "      <th>93</th>\n",
       "      <td>216472031</td>\n",
       "      <td>2023-07-06</td>\n",
       "      <td>7233</td>\n",
       "      <td>House</td>\n",
       "      <td>2074.0</td>\n",
       "      <td>3</td>\n",
       "      <td>1</td>\n",
       "      <td>Immediately</td>\n",
       "      <td>No</td>\n",
       "      <td>No Minimum</td>\n",
       "      <td>NaN</td>\n",
       "      <td>Errigal Road, Drimnagh, Dublin 12</td>\n",
       "      <td>4.268345</td>\n",
       "      <td>53.327143</td>\n",
       "      <td>-6.323572</td>\n",
       "      <td>Dublin 12</td>\n",
       "      <td>https://www.daft.ie/for-rent/house-errigal-road-drimnagh-dublin-12/5286108</td>\n",
       "      <td>2023-07-06</td>\n",
       "      <td>cadf2550c578020708a7c67e59d8d546c61bc0220265932a85cbe1e3eb8da73b</td>\n",
       "    </tr>\n",
       "    <tr>\n",
       "      <th>94</th>\n",
       "      <td>216759135</td>\n",
       "      <td>2023-07-06</td>\n",
       "      <td>11148</td>\n",
       "      <td>Apartment</td>\n",
       "      <td>1000.0</td>\n",
       "      <td>1</td>\n",
       "      <td>1</td>\n",
       "      <td>Immediately</td>\n",
       "      <td>No</td>\n",
       "      <td>No Minimum</td>\n",
       "      <td>NaN</td>\n",
       "      <td>Wellmount Green, Finglas, Dublin 11</td>\n",
       "      <td>5.222772</td>\n",
       "      <td>53.385023</td>\n",
       "      <td>-6.309387</td>\n",
       "      <td>Dublin 11</td>\n",
       "      <td>https://www.daft.ie/for-rent/apartment-wellmount-green-finglas-dublin-11/5316077</td>\n",
       "      <td>2023-07-06</td>\n",
       "      <td>26cc2d30dd96bc79e1878b3c150a234831895dc0ad203bbd1d6f19486a358e5f</td>\n",
       "    </tr>\n",
       "    <tr>\n",
       "      <th>95</th>\n",
       "      <td>216093519</td>\n",
       "      <td>2023-07-06</td>\n",
       "      <td>14731</td>\n",
       "      <td>House</td>\n",
       "      <td>1700.0</td>\n",
       "      <td>2</td>\n",
       "      <td>1</td>\n",
       "      <td>Immediately</td>\n",
       "      <td>No</td>\n",
       "      <td>No Minimum</td>\n",
       "      <td>NaN</td>\n",
       "      <td>Downpatrick Road, Crumlin, Dublin 12</td>\n",
       "      <td>3.064368</td>\n",
       "      <td>53.326160</td>\n",
       "      <td>-6.300103</td>\n",
       "      <td>Dublin 12</td>\n",
       "      <td>https://www.daft.ie/for-rent/house-downpatrick-road-crumlin-dublin-12/4718424</td>\n",
       "      <td>2023-07-06</td>\n",
       "      <td>b095c7a1158b0ddedd97f2fcd5544d56a4d119a93b3156fe99443b515a6c7653</td>\n",
       "    </tr>\n",
       "    <tr>\n",
       "      <th>96</th>\n",
       "      <td>215871416</td>\n",
       "      <td>2023-07-06</td>\n",
       "      <td>4649</td>\n",
       "      <td>House</td>\n",
       "      <td>2400.0</td>\n",
       "      <td>3</td>\n",
       "      <td>1</td>\n",
       "      <td>Immediately</td>\n",
       "      <td>No</td>\n",
       "      <td>No Minimum</td>\n",
       "      <td>NaN</td>\n",
       "      <td>Raheen Drive, Ballyfernot, Ballyfermot, Dublin 10</td>\n",
       "      <td>6.111168</td>\n",
       "      <td>53.336164</td>\n",
       "      <td>-6.357687</td>\n",
       "      <td>Dublin 10</td>\n",
       "      <td>https://www.daft.ie/for-rent/house-raheen-drive-ballyfernot-ballyfermot-dublin-10/4690628</td>\n",
       "      <td>2023-07-06</td>\n",
       "      <td>4c851ddb7470524b8fc4db3571db90bfe9362bd814f239f5e80bcfec703bb0b6</td>\n",
       "    </tr>\n",
       "  </tbody>\n",
       "</table>\n",
       "</div>"
      ],
      "text/plain": [
       "      daft_id date_entered  views       type    rent  num_bedroom  \\\n",
       "89  216250919   2023-07-06   6642      House  2100.0            3   \n",
       "93  216472031   2023-07-06   7233      House  2074.0            3   \n",
       "94  216759135   2023-07-06  11148  Apartment  1000.0            1   \n",
       "95  216093519   2023-07-06  14731      House  1700.0            2   \n",
       "96  215871416   2023-07-06   4649      House  2400.0            3   \n",
       "\n",
       "    num_bathroom available_from furnished        lease ber_rating  \\\n",
       "89             1    Immediately        No   No Minimum        NaN   \n",
       "93             1    Immediately        No   No Minimum        NaN   \n",
       "94             1    Immediately        No   No Minimum        NaN   \n",
       "95             1    Immediately        No   No Minimum        NaN   \n",
       "96             1    Immediately        No   No Minimum        NaN   \n",
       "\n",
       "                                              address  \\\n",
       "89            Wheatfield Drive, Clondalkin, Dublin 22   \n",
       "93                  Errigal Road, Drimnagh, Dublin 12   \n",
       "94                Wellmount Green, Finglas, Dublin 11   \n",
       "95               Downpatrick Road, Crumlin, Dublin 12   \n",
       "96  Raheen Drive, Ballyfernot, Ballyfermot, Dublin 10   \n",
       "\n",
       "    distance_from_city_centre   latitude  longitude      region  \\\n",
       "89                   8.345406  53.343446  -6.392514   Dublin 22   \n",
       "93                   4.268345  53.327143  -6.323572   Dublin 12   \n",
       "94                   5.222772  53.385023  -6.309387   Dublin 11   \n",
       "95                   3.064368  53.326160  -6.300103   Dublin 12   \n",
       "96                   6.111168  53.336164  -6.357687   Dublin 10   \n",
       "\n",
       "                                                                                          url  \\\n",
       "89           https://www.daft.ie/for-rent/house-wheatfield-drive-clondalkin-dublin-22/4737946   \n",
       "93                 https://www.daft.ie/for-rent/house-errigal-road-drimnagh-dublin-12/5286108   \n",
       "94           https://www.daft.ie/for-rent/apartment-wellmount-green-finglas-dublin-11/5316077   \n",
       "95              https://www.daft.ie/for-rent/house-downpatrick-road-crumlin-dublin-12/4718424   \n",
       "96  https://www.daft.ie/for-rent/house-raheen-drive-ballyfernot-ballyfermot-dublin-10/4690628   \n",
       "\n",
       "   input_date  \\\n",
       "89 2023-07-06   \n",
       "93 2023-07-06   \n",
       "94 2023-07-06   \n",
       "95 2023-07-06   \n",
       "96 2023-07-06   \n",
       "\n",
       "                                                         property_id  \n",
       "89  737a9bb29b8850dbce4b55864b9fb3b34c710a164a754236c91cb27a6e085802  \n",
       "93  cadf2550c578020708a7c67e59d8d546c61bc0220265932a85cbe1e3eb8da73b  \n",
       "94  26cc2d30dd96bc79e1878b3c150a234831895dc0ad203bbd1d6f19486a358e5f  \n",
       "95  b095c7a1158b0ddedd97f2fcd5544d56a4d119a93b3156fe99443b515a6c7653  \n",
       "96  4c851ddb7470524b8fc4db3571db90bfe9362bd814f239f5e80bcfec703bb0b6  "
      ]
     },
     "execution_count": 435,
     "metadata": {},
     "output_type": "execute_result"
    }
   ],
   "source": [
    "df_ber_rating_nan = df[pd.isna(df['ber_rating'])]\n",
    "df_ber_rating_nan.head()"
   ]
  },
  {
   "cell_type": "code",
   "execution_count": 436,
   "id": "f842c9aa-9b68-48c7-b09d-b556f8a5d42a",
   "metadata": {},
   "outputs": [],
   "source": [
    "# Drop rows where rent is NaN\n",
    "\n",
    "df = df.dropna(subset=['rent'])"
   ]
  },
  {
   "cell_type": "markdown",
   "id": "18edb777-d2f7-4d1e-9062-d46c3c6cc921",
   "metadata": {},
   "source": [
    "# Anomalies\n",
    "\n",
    "- Some regions are wrong because the extraction of region column is based on address.\n",
    "    - Whatever comes after the last comma is being considered as region. However, some addresses don't specify in which dublin region the property is located. Therefore, will consider only the one's that explicity specifies it\n",
    "\n",
    "\n",
    "    "
   ]
  },
  {
   "cell_type": "code",
   "execution_count": 437,
   "id": "8ee4219a-aa40-4b23-b07a-39d847d0b53d",
   "metadata": {
    "tags": []
   },
   "outputs": [
    {
     "name": "stdout",
     "output_type": "stream",
     "text": [
      "type: \n",
      "['House' 'Apartment' 'Studio']\n",
      "furnished: \n",
      "[' Yes' ' No' ' Optional']\n",
      "ber_rating: \n",
      "['B1' 'A1' 'A2' 'D2' 'BER Exempt' 'C3' 'E1' 'B2' 'D1' 'B3' 'C1' 'C2' 'A3'\n",
      " nan 'F' 'E2' 'G']\n",
      "region: \n",
      "[' Dublin 20' ' Rathmines' ' Dublin City Centre' ' Dublin 18' ' Dublin 1'\n",
      " ' Dublin 8' ' Dublin 6' ' Co. Dublin' ' Dublin 4' ' Dublin 14'\n",
      " ' Dublin 2' ' Dublin 13' ' Dublin 9' ' Dublin 7' ' Dublin 5' ' Dublin 3'\n",
      " ' Dublin 12' ' Dublin 15' ' Raheny' ' Dublin 11' ' Dublin 22'\n",
      " ' Hansfield' ' Dublin 10' ' Finglas' ' Drumcondra' ' Dublin 24'\n",
      " ' Clondalkin' ' Terenure' ' Dublin 6W' ' Ranelagh' ' Ongar Village'\n",
      " ' Dublin 17' 'Leinster Road' 'Capel Street' ' 138 Rathgar Road'\n",
      " ' Castleknock' 'Wyckham Point' 'Grove Park' ' Dublin 16'\n",
      " ' 11 Frankfort Avenue' ' 96 Kimmage Road Lower' ' 29 Howth Road'\n",
      " 'Grosvenor Lane' ' Rathgar' ' Beaumont Woods' ' Mulhuddart'\n",
      " ' Collinswood' '54 Leeson Park' ' Millbrook Lawns' ' Bushy Park House'\n",
      " ' 60 Rathmines Road Upper' ' Ballsbridge' ' Cherry Orchard' ' Sandyford'\n",
      " 'Grosvenor Square' ' Áras Na Cluaine' ' 86 Grove Park']\n"
     ]
    }
   ],
   "source": [
    "list_uniques = ['type','furnished','ber_rating','region']\n",
    "for item in list_uniques:\n",
    "    print(f'{item}: \\n{df[item].unique()}')"
   ]
  },
  {
   "cell_type": "code",
   "execution_count": 438,
   "id": "e894d72e-6a39-4812-8c55-1f4218961e80",
   "metadata": {
    "tags": []
   },
   "outputs": [
    {
     "name": "stdout",
     "output_type": "stream",
     "text": [
      "['Dublin 20' nan 'Dublin 18' 'Dublin 1' 'Dublin 8' 'Dublin 6' 'Dublin 4'\n",
      " 'Dublin 14' 'Dublin 2' 'Dublin 13' 'Dublin 9' 'Dublin 7' 'Dublin 5'\n",
      " 'Dublin 3' 'Dublin 12' 'Dublin 15' 'Dublin 11' 'Dublin 22' 'Dublin 10'\n",
      " 'Dublin 24' 'Dublin 17' 'Dublin 16']\n"
     ]
    }
   ],
   "source": [
    "# Ignoring regions that don't have 'Dublin +(num)' in Address.\n",
    "df['region'] = df['region'].str.extract(r'(Dublin \\d+)', expand=False)\n",
    "print(df['region'].unique())"
   ]
  },
  {
   "cell_type": "markdown",
   "id": "d8ec293b-44d8-4943-a9e4-659d167d94f4",
   "metadata": {},
   "source": [
    "# Outliers\n"
   ]
  },
  {
   "cell_type": "code",
   "execution_count": 439,
   "id": "312452b8-f53c-4733-b295-cad6c8e3719b",
   "metadata": {
    "tags": []
   },
   "outputs": [
    {
     "data": {
      "text/html": [
       "<div>\n",
       "<style scoped>\n",
       "    .dataframe tbody tr th:only-of-type {\n",
       "        vertical-align: middle;\n",
       "    }\n",
       "\n",
       "    .dataframe tbody tr th {\n",
       "        vertical-align: top;\n",
       "    }\n",
       "\n",
       "    .dataframe thead th {\n",
       "        text-align: right;\n",
       "    }\n",
       "</style>\n",
       "<table border=\"1\" class=\"dataframe\">\n",
       "  <thead>\n",
       "    <tr style=\"text-align: right;\">\n",
       "      <th></th>\n",
       "      <th>rent</th>\n",
       "      <th>num_bedroom</th>\n",
       "      <th>num_bathroom</th>\n",
       "      <th>distance_from_city_centre</th>\n",
       "    </tr>\n",
       "  </thead>\n",
       "  <tbody>\n",
       "    <tr>\n",
       "      <th>count</th>\n",
       "      <td>807.000000</td>\n",
       "      <td>807.00000</td>\n",
       "      <td>807.000000</td>\n",
       "      <td>807.000000</td>\n",
       "    </tr>\n",
       "    <tr>\n",
       "      <th>mean</th>\n",
       "      <td>3001.555969</td>\n",
       "      <td>2.04461</td>\n",
       "      <td>1.607187</td>\n",
       "      <td>5.586085</td>\n",
       "    </tr>\n",
       "    <tr>\n",
       "      <th>std</th>\n",
       "      <td>2586.742275</td>\n",
       "      <td>1.32470</td>\n",
       "      <td>1.174839</td>\n",
       "      <td>4.680827</td>\n",
       "    </tr>\n",
       "    <tr>\n",
       "      <th>min</th>\n",
       "      <td>900.000000</td>\n",
       "      <td>0.00000</td>\n",
       "      <td>0.000000</td>\n",
       "      <td>0.165881</td>\n",
       "    </tr>\n",
       "    <tr>\n",
       "      <th>25%</th>\n",
       "      <td>1890.500000</td>\n",
       "      <td>1.00000</td>\n",
       "      <td>1.000000</td>\n",
       "      <td>2.076316</td>\n",
       "    </tr>\n",
       "    <tr>\n",
       "      <th>50%</th>\n",
       "      <td>2426.000000</td>\n",
       "      <td>2.00000</td>\n",
       "      <td>1.000000</td>\n",
       "      <td>3.584084</td>\n",
       "    </tr>\n",
       "    <tr>\n",
       "      <th>75%</th>\n",
       "      <td>3200.000000</td>\n",
       "      <td>3.00000</td>\n",
       "      <td>2.000000</td>\n",
       "      <td>8.720837</td>\n",
       "    </tr>\n",
       "    <tr>\n",
       "      <th>max</th>\n",
       "      <td>30000.000000</td>\n",
       "      <td>13.00000</td>\n",
       "      <td>11.000000</td>\n",
       "      <td>30.067830</td>\n",
       "    </tr>\n",
       "  </tbody>\n",
       "</table>\n",
       "</div>"
      ],
      "text/plain": [
       "               rent  num_bedroom  num_bathroom  distance_from_city_centre\n",
       "count    807.000000    807.00000    807.000000                 807.000000\n",
       "mean    3001.555969      2.04461      1.607187                   5.586085\n",
       "std     2586.742275      1.32470      1.174839                   4.680827\n",
       "min      900.000000      0.00000      0.000000                   0.165881\n",
       "25%     1890.500000      1.00000      1.000000                   2.076316\n",
       "50%     2426.000000      2.00000      1.000000                   3.584084\n",
       "75%     3200.000000      3.00000      2.000000                   8.720837\n",
       "max    30000.000000     13.00000     11.000000                  30.067830"
      ]
     },
     "execution_count": 439,
     "metadata": {},
     "output_type": "execute_result"
    }
   ],
   "source": [
    "df.describe()[['rent','num_bedroom', 'num_bathroom','distance_from_city_centre']]"
   ]
  },
  {
   "cell_type": "code",
   "execution_count": 440,
   "id": "d6179305-c663-4cae-b65a-34324466ea79",
   "metadata": {
    "tags": []
   },
   "outputs": [
    {
     "data": {
      "application/vnd.plotly.v1+json": {
       "config": {
        "plotlyServerURL": "https://plot.ly"
       },
       "data": [
        {
         "alignmentgroup": "True",
         "bingroup": "x",
         "hovertemplate": "rent=%{x}<br>count=%{y}<extra></extra>",
         "legendgroup": "",
         "marker": {
          "color": "#636efa",
          "pattern": {
           "shape": ""
          }
         },
         "name": "",
         "offsetgroup": "",
         "orientation": "v",
         "showlegend": false,
         "type": "histogram",
         "x": [
          5500,
          13600,
          3683.333333,
          3650,
          28300,
          18000,
          16000,
          2100,
          1800,
          12000,
          2850,
          1000,
          2995,
          3267,
          29200,
          2850,
          3495,
          3000,
          1695,
          3100,
          2200,
          4000,
          2200,
          3000,
          2400,
          1450,
          6000,
          3100,
          2870,
          1600,
          3750,
          2600,
          4000,
          2400,
          2499,
          3500,
          1534,
          3375,
          2800,
          2300,
          2500,
          2500,
          2500,
          1995,
          1600,
          2950,
          1421,
          5500,
          3200,
          10000,
          2500,
          5000,
          1126.666667,
          5000,
          1875,
          2400,
          1535,
          4050,
          1740,
          1658,
          3000,
          1700,
          2800,
          10000,
          4800,
          2950,
          2280,
          4500,
          2000,
          3200,
          1450,
          2450,
          8000,
          2550,
          2000,
          2950,
          1400,
          1350,
          2500,
          2200,
          2100,
          2150,
          2100,
          3450,
          8000,
          2700,
          6500,
          2500,
          2856,
          2100,
          2337,
          2900,
          2650,
          2074,
          1000,
          1700,
          2400,
          2550,
          2500,
          1150,
          2200,
          6000,
          3250,
          1500,
          2200,
          1500,
          1750,
          5400,
          1800,
          5400,
          1300,
          1540,
          1800,
          1100,
          2300,
          2200,
          1400,
          1758,
          1165,
          2144,
          2652,
          1950,
          2002,
          2100,
          1950,
          2305,
          2300,
          1350,
          2200,
          1800,
          1900,
          2200,
          2600,
          1800,
          2346,
          1150,
          1819,
          2346,
          2188,
          1936,
          2300,
          2495,
          1516.666667,
          3000,
          2000,
          2200,
          2980,
          1632,
          4246.666667,
          1900,
          1950,
          1600,
          2790,
          1781,
          2600,
          1780,
          2500,
          3300,
          2600,
          2378,
          3000,
          2030,
          1845,
          1650,
          2500,
          3500,
          2080,
          2744,
          2600,
          3488,
          1900,
          2300,
          3420,
          2800,
          3800,
          2454,
          1775,
          3050,
          2646,
          2600,
          3500,
          7500,
          2157,
          2500,
          2400,
          2600,
          1500,
          3500,
          2955,
          2500,
          2500,
          2700,
          2400,
          2500,
          2890,
          4000,
          2836,
          2300,
          6500,
          2600,
          2500,
          1900,
          3400,
          2950,
          12240,
          2395,
          12600,
          7000,
          2400,
          3500,
          2245,
          2245,
          4500,
          4250,
          4250,
          5000,
          2409,
          2350,
          4500,
          4250,
          1650,
          2450,
          2550,
          3450,
          4000,
          3577,
          2900,
          5000,
          2160,
          3270,
          3000,
          3800,
          2650,
          2426,
          2500,
          3950,
          1800,
          1800,
          2500,
          2200,
          2750,
          1200,
          3000,
          2499,
          2300,
          1406,
          3000,
          2340,
          1511,
          1250,
          1634,
          3900,
          2250,
          1780,
          2629,
          2100,
          2500,
          2850,
          2350,
          1950,
          2800,
          1899,
          2750,
          2650,
          1650,
          1700,
          1450,
          3750,
          1276,
          2300,
          2200,
          5000,
          2700,
          2196,
          2250,
          2400,
          2200,
          3000,
          1930,
          4500,
          2642,
          3500,
          5350,
          3750,
          1350,
          2700,
          3264,
          3100,
          2487,
          1535,
          5500,
          2700,
          3270,
          1739,
          2000,
          1000,
          3300,
          3255,
          5500,
          1400,
          5600,
          3500,
          2036,
          3300,
          1895,
          900,
          2200,
          2700,
          1800,
          2100,
          1895,
          3700,
          1200,
          2900,
          3200,
          1652,
          6000,
          2700,
          3430,
          2400,
          3033.333333,
          2000,
          3500,
          2484,
          1900,
          2979,
          1400,
          1350,
          2600,
          1495,
          2500,
          1800,
          3500,
          2200,
          1660,
          15000,
          1744,
          1300,
          1550,
          2343,
          2600,
          10550,
          3310,
          2670,
          12500,
          1750,
          2600,
          1200,
          3900,
          1975,
          20000,
          3105,
          1495,
          1500,
          3011.666667,
          2300,
          2000,
          2600,
          2383.333333,
          3185,
          4500,
          3500,
          3250,
          3500,
          4000,
          3445,
          2700,
          2950,
          3141.666667,
          3250,
          4000,
          3150,
          3250,
          2250,
          2250,
          2040,
          1100,
          1432,
          2350,
          1850,
          1554,
          1273,
          3300,
          1350,
          2295,
          10000,
          1295,
          2600,
          1495,
          1900,
          2150,
          1500,
          1500,
          1850,
          2000,
          1453,
          5000,
          1650,
          3000,
          1203,
          1461,
          1196,
          4500,
          2600,
          2800,
          1696,
          1456,
          2500,
          1850,
          3300,
          4500,
          2200,
          2950,
          4000,
          2500,
          2489,
          2700,
          2700,
          10000,
          2300,
          2965,
          3410,
          3162,
          2800,
          2500,
          2150,
          4200,
          950,
          10000,
          8000,
          4500,
          8500,
          2040,
          1948,
          2200,
          4500,
          2400,
          3500,
          4250,
          10500,
          2650,
          2182,
          1850,
          3374,
          2200,
          2710,
          3600,
          1750,
          2000,
          2200,
          7500,
          8500,
          2700,
          2100,
          2960,
          3050,
          1900,
          1776,
          7500,
          3500,
          2166.666667,
          4200,
          1900,
          1900,
          1562,
          8500,
          1302,
          1100,
          3500,
          2366,
          3500,
          1600,
          15000,
          1300,
          1950,
          1650,
          3650,
          2090,
          2450,
          3200,
          2200,
          7350,
          1600,
          2148,
          30000,
          1275,
          8750,
          1400,
          2300,
          1100,
          2250,
          1850,
          1300,
          1886,
          2900,
          2800,
          3650,
          2400,
          5190,
          2687,
          1300,
          1620,
          2300,
          6000,
          1482,
          3500,
          2395,
          3750,
          3000,
          3550,
          3450,
          3200,
          1240,
          2800,
          2050,
          4250,
          3750,
          1600,
          3300,
          2750,
          2385,
          1923,
          2500,
          1600,
          1500,
          2500,
          2400,
          1500,
          13500,
          1285,
          1600,
          2500,
          1300,
          1435,
          1814,
          1741,
          2693,
          1750,
          2350,
          1989,
          1825,
          1746,
          2400,
          2645,
          2500,
          1800,
          2400,
          1350,
          3000,
          2900,
          900,
          2800,
          2600,
          3000,
          5000,
          3950,
          2890,
          3200,
          1700,
          2600,
          2000,
          1500,
          1500,
          3500,
          1900,
          2495,
          5000,
          3500,
          5500,
          2700,
          1950,
          3000,
          2000,
          1148.333333,
          4000,
          3500,
          1550,
          2990,
          3500,
          2800,
          4500,
          1800,
          2407,
          1475,
          1235,
          1700,
          2200,
          1525,
          5620,
          2600,
          2000,
          3250,
          1750,
          1800,
          14000,
          2400,
          2700,
          2400,
          2600,
          2000,
          2350,
          3500,
          2500,
          2300,
          2600,
          2200,
          1150,
          1130,
          2250,
          1686,
          1953,
          1600,
          1350,
          1200,
          2448,
          3445,
          2200,
          2339,
          3300,
          2599,
          4000,
          2383.333333,
          2000,
          1375,
          2500,
          1350,
          1425,
          2600,
          2040,
          1900,
          3057,
          3000,
          3250,
          1970,
          4000,
          1663,
          2115,
          6500,
          1150,
          1150,
          2465,
          6500,
          2470,
          1800,
          1500,
          4000,
          7080,
          5950,
          3079,
          2629,
          6591,
          1754,
          2410,
          1815,
          1880,
          3000,
          2065,
          2250,
          3000,
          3000,
          1880,
          2300,
          1900,
          2365,
          2400,
          1875,
          1850,
          1300,
          2125,
          2175,
          2500,
          2650,
          1925,
          2900,
          1900,
          2675,
          6200,
          1950,
          1990,
          2050,
          2423,
          4200,
          2575,
          3100,
          3500,
          2450,
          2025,
          2708,
          2825,
          2300,
          3400,
          2000,
          2264,
          1650,
          1300,
          3200,
          3250,
          2440,
          2400,
          3796,
          3953,
          4000,
          1700,
          2500,
          2600,
          2600,
          4450,
          2300,
          2000,
          9100,
          1850,
          2308,
          3450,
          2600,
          1990,
          1550,
          1126.666667,
          2000,
          4000,
          2431,
          2400,
          1400,
          2500,
          2800,
          1875,
          1800,
          3000,
          1083.333333,
          2555,
          5350,
          2800,
          2715,
          3500,
          3780,
          4500,
          2350,
          1800,
          2750,
          2200,
          2295,
          3380,
          1256.666667,
          2100,
          3200,
          2850,
          4140,
          1750,
          4500,
          2400,
          2000,
          3400,
          5500,
          2000,
          3000,
          1857,
          2458,
          8000,
          1371,
          2500,
          1805,
          1550,
          1250,
          2300,
          2100,
          2170,
          1800,
          2448,
          1758,
          2336,
          2200,
          2077,
          1900,
          2300,
          1155,
          2588,
          4000,
          1400,
          2200,
          1726,
          3400,
          2100,
          2400,
          3700,
          1450,
          1630,
          2500,
          3800,
          3800,
          1535,
          1300,
          1800,
          2192,
          4000,
          2770,
          1250,
          2500,
          2838,
          950,
          1863.3333333333333,
          1048,
          2200,
          1500,
          3000,
          4280,
          1800,
          4080,
          2350
         ],
         "xaxis": "x",
         "yaxis": "y"
        }
       ],
       "layout": {
        "autosize": true,
        "barmode": "relative",
        "legend": {
         "tracegroupgap": 0
        },
        "margin": {
         "t": 60
        },
        "template": {
         "data": {
          "bar": [
           {
            "error_x": {
             "color": "#2a3f5f"
            },
            "error_y": {
             "color": "#2a3f5f"
            },
            "marker": {
             "line": {
              "color": "#E5ECF6",
              "width": 0.5
             },
             "pattern": {
              "fillmode": "overlay",
              "size": 10,
              "solidity": 0.2
             }
            },
            "type": "bar"
           }
          ],
          "barpolar": [
           {
            "marker": {
             "line": {
              "color": "#E5ECF6",
              "width": 0.5
             },
             "pattern": {
              "fillmode": "overlay",
              "size": 10,
              "solidity": 0.2
             }
            },
            "type": "barpolar"
           }
          ],
          "carpet": [
           {
            "aaxis": {
             "endlinecolor": "#2a3f5f",
             "gridcolor": "white",
             "linecolor": "white",
             "minorgridcolor": "white",
             "startlinecolor": "#2a3f5f"
            },
            "baxis": {
             "endlinecolor": "#2a3f5f",
             "gridcolor": "white",
             "linecolor": "white",
             "minorgridcolor": "white",
             "startlinecolor": "#2a3f5f"
            },
            "type": "carpet"
           }
          ],
          "choropleth": [
           {
            "colorbar": {
             "outlinewidth": 0,
             "ticks": ""
            },
            "type": "choropleth"
           }
          ],
          "contour": [
           {
            "colorbar": {
             "outlinewidth": 0,
             "ticks": ""
            },
            "colorscale": [
             [
              0,
              "#0d0887"
             ],
             [
              0.1111111111111111,
              "#46039f"
             ],
             [
              0.2222222222222222,
              "#7201a8"
             ],
             [
              0.3333333333333333,
              "#9c179e"
             ],
             [
              0.4444444444444444,
              "#bd3786"
             ],
             [
              0.5555555555555556,
              "#d8576b"
             ],
             [
              0.6666666666666666,
              "#ed7953"
             ],
             [
              0.7777777777777778,
              "#fb9f3a"
             ],
             [
              0.8888888888888888,
              "#fdca26"
             ],
             [
              1,
              "#f0f921"
             ]
            ],
            "type": "contour"
           }
          ],
          "contourcarpet": [
           {
            "colorbar": {
             "outlinewidth": 0,
             "ticks": ""
            },
            "type": "contourcarpet"
           }
          ],
          "heatmap": [
           {
            "colorbar": {
             "outlinewidth": 0,
             "ticks": ""
            },
            "colorscale": [
             [
              0,
              "#0d0887"
             ],
             [
              0.1111111111111111,
              "#46039f"
             ],
             [
              0.2222222222222222,
              "#7201a8"
             ],
             [
              0.3333333333333333,
              "#9c179e"
             ],
             [
              0.4444444444444444,
              "#bd3786"
             ],
             [
              0.5555555555555556,
              "#d8576b"
             ],
             [
              0.6666666666666666,
              "#ed7953"
             ],
             [
              0.7777777777777778,
              "#fb9f3a"
             ],
             [
              0.8888888888888888,
              "#fdca26"
             ],
             [
              1,
              "#f0f921"
             ]
            ],
            "type": "heatmap"
           }
          ],
          "heatmapgl": [
           {
            "colorbar": {
             "outlinewidth": 0,
             "ticks": ""
            },
            "colorscale": [
             [
              0,
              "#0d0887"
             ],
             [
              0.1111111111111111,
              "#46039f"
             ],
             [
              0.2222222222222222,
              "#7201a8"
             ],
             [
              0.3333333333333333,
              "#9c179e"
             ],
             [
              0.4444444444444444,
              "#bd3786"
             ],
             [
              0.5555555555555556,
              "#d8576b"
             ],
             [
              0.6666666666666666,
              "#ed7953"
             ],
             [
              0.7777777777777778,
              "#fb9f3a"
             ],
             [
              0.8888888888888888,
              "#fdca26"
             ],
             [
              1,
              "#f0f921"
             ]
            ],
            "type": "heatmapgl"
           }
          ],
          "histogram": [
           {
            "marker": {
             "pattern": {
              "fillmode": "overlay",
              "size": 10,
              "solidity": 0.2
             }
            },
            "type": "histogram"
           }
          ],
          "histogram2d": [
           {
            "colorbar": {
             "outlinewidth": 0,
             "ticks": ""
            },
            "colorscale": [
             [
              0,
              "#0d0887"
             ],
             [
              0.1111111111111111,
              "#46039f"
             ],
             [
              0.2222222222222222,
              "#7201a8"
             ],
             [
              0.3333333333333333,
              "#9c179e"
             ],
             [
              0.4444444444444444,
              "#bd3786"
             ],
             [
              0.5555555555555556,
              "#d8576b"
             ],
             [
              0.6666666666666666,
              "#ed7953"
             ],
             [
              0.7777777777777778,
              "#fb9f3a"
             ],
             [
              0.8888888888888888,
              "#fdca26"
             ],
             [
              1,
              "#f0f921"
             ]
            ],
            "type": "histogram2d"
           }
          ],
          "histogram2dcontour": [
           {
            "colorbar": {
             "outlinewidth": 0,
             "ticks": ""
            },
            "colorscale": [
             [
              0,
              "#0d0887"
             ],
             [
              0.1111111111111111,
              "#46039f"
             ],
             [
              0.2222222222222222,
              "#7201a8"
             ],
             [
              0.3333333333333333,
              "#9c179e"
             ],
             [
              0.4444444444444444,
              "#bd3786"
             ],
             [
              0.5555555555555556,
              "#d8576b"
             ],
             [
              0.6666666666666666,
              "#ed7953"
             ],
             [
              0.7777777777777778,
              "#fb9f3a"
             ],
             [
              0.8888888888888888,
              "#fdca26"
             ],
             [
              1,
              "#f0f921"
             ]
            ],
            "type": "histogram2dcontour"
           }
          ],
          "mesh3d": [
           {
            "colorbar": {
             "outlinewidth": 0,
             "ticks": ""
            },
            "type": "mesh3d"
           }
          ],
          "parcoords": [
           {
            "line": {
             "colorbar": {
              "outlinewidth": 0,
              "ticks": ""
             }
            },
            "type": "parcoords"
           }
          ],
          "pie": [
           {
            "automargin": true,
            "type": "pie"
           }
          ],
          "scatter": [
           {
            "fillpattern": {
             "fillmode": "overlay",
             "size": 10,
             "solidity": 0.2
            },
            "type": "scatter"
           }
          ],
          "scatter3d": [
           {
            "line": {
             "colorbar": {
              "outlinewidth": 0,
              "ticks": ""
             }
            },
            "marker": {
             "colorbar": {
              "outlinewidth": 0,
              "ticks": ""
             }
            },
            "type": "scatter3d"
           }
          ],
          "scattercarpet": [
           {
            "marker": {
             "colorbar": {
              "outlinewidth": 0,
              "ticks": ""
             }
            },
            "type": "scattercarpet"
           }
          ],
          "scattergeo": [
           {
            "marker": {
             "colorbar": {
              "outlinewidth": 0,
              "ticks": ""
             }
            },
            "type": "scattergeo"
           }
          ],
          "scattergl": [
           {
            "marker": {
             "colorbar": {
              "outlinewidth": 0,
              "ticks": ""
             }
            },
            "type": "scattergl"
           }
          ],
          "scattermapbox": [
           {
            "marker": {
             "colorbar": {
              "outlinewidth": 0,
              "ticks": ""
             }
            },
            "type": "scattermapbox"
           }
          ],
          "scatterpolar": [
           {
            "marker": {
             "colorbar": {
              "outlinewidth": 0,
              "ticks": ""
             }
            },
            "type": "scatterpolar"
           }
          ],
          "scatterpolargl": [
           {
            "marker": {
             "colorbar": {
              "outlinewidth": 0,
              "ticks": ""
             }
            },
            "type": "scatterpolargl"
           }
          ],
          "scatterternary": [
           {
            "marker": {
             "colorbar": {
              "outlinewidth": 0,
              "ticks": ""
             }
            },
            "type": "scatterternary"
           }
          ],
          "surface": [
           {
            "colorbar": {
             "outlinewidth": 0,
             "ticks": ""
            },
            "colorscale": [
             [
              0,
              "#0d0887"
             ],
             [
              0.1111111111111111,
              "#46039f"
             ],
             [
              0.2222222222222222,
              "#7201a8"
             ],
             [
              0.3333333333333333,
              "#9c179e"
             ],
             [
              0.4444444444444444,
              "#bd3786"
             ],
             [
              0.5555555555555556,
              "#d8576b"
             ],
             [
              0.6666666666666666,
              "#ed7953"
             ],
             [
              0.7777777777777778,
              "#fb9f3a"
             ],
             [
              0.8888888888888888,
              "#fdca26"
             ],
             [
              1,
              "#f0f921"
             ]
            ],
            "type": "surface"
           }
          ],
          "table": [
           {
            "cells": {
             "fill": {
              "color": "#EBF0F8"
             },
             "line": {
              "color": "white"
             }
            },
            "header": {
             "fill": {
              "color": "#C8D4E3"
             },
             "line": {
              "color": "white"
             }
            },
            "type": "table"
           }
          ]
         },
         "layout": {
          "annotationdefaults": {
           "arrowcolor": "#2a3f5f",
           "arrowhead": 0,
           "arrowwidth": 1
          },
          "autotypenumbers": "strict",
          "coloraxis": {
           "colorbar": {
            "outlinewidth": 0,
            "ticks": ""
           }
          },
          "colorscale": {
           "diverging": [
            [
             0,
             "#8e0152"
            ],
            [
             0.1,
             "#c51b7d"
            ],
            [
             0.2,
             "#de77ae"
            ],
            [
             0.3,
             "#f1b6da"
            ],
            [
             0.4,
             "#fde0ef"
            ],
            [
             0.5,
             "#f7f7f7"
            ],
            [
             0.6,
             "#e6f5d0"
            ],
            [
             0.7,
             "#b8e186"
            ],
            [
             0.8,
             "#7fbc41"
            ],
            [
             0.9,
             "#4d9221"
            ],
            [
             1,
             "#276419"
            ]
           ],
           "sequential": [
            [
             0,
             "#0d0887"
            ],
            [
             0.1111111111111111,
             "#46039f"
            ],
            [
             0.2222222222222222,
             "#7201a8"
            ],
            [
             0.3333333333333333,
             "#9c179e"
            ],
            [
             0.4444444444444444,
             "#bd3786"
            ],
            [
             0.5555555555555556,
             "#d8576b"
            ],
            [
             0.6666666666666666,
             "#ed7953"
            ],
            [
             0.7777777777777778,
             "#fb9f3a"
            ],
            [
             0.8888888888888888,
             "#fdca26"
            ],
            [
             1,
             "#f0f921"
            ]
           ],
           "sequentialminus": [
            [
             0,
             "#0d0887"
            ],
            [
             0.1111111111111111,
             "#46039f"
            ],
            [
             0.2222222222222222,
             "#7201a8"
            ],
            [
             0.3333333333333333,
             "#9c179e"
            ],
            [
             0.4444444444444444,
             "#bd3786"
            ],
            [
             0.5555555555555556,
             "#d8576b"
            ],
            [
             0.6666666666666666,
             "#ed7953"
            ],
            [
             0.7777777777777778,
             "#fb9f3a"
            ],
            [
             0.8888888888888888,
             "#fdca26"
            ],
            [
             1,
             "#f0f921"
            ]
           ]
          },
          "colorway": [
           "#636efa",
           "#EF553B",
           "#00cc96",
           "#ab63fa",
           "#FFA15A",
           "#19d3f3",
           "#FF6692",
           "#B6E880",
           "#FF97FF",
           "#FECB52"
          ],
          "font": {
           "color": "#2a3f5f"
          },
          "geo": {
           "bgcolor": "white",
           "lakecolor": "white",
           "landcolor": "#E5ECF6",
           "showlakes": true,
           "showland": true,
           "subunitcolor": "white"
          },
          "hoverlabel": {
           "align": "left"
          },
          "hovermode": "closest",
          "mapbox": {
           "style": "light"
          },
          "paper_bgcolor": "white",
          "plot_bgcolor": "#E5ECF6",
          "polar": {
           "angularaxis": {
            "gridcolor": "white",
            "linecolor": "white",
            "ticks": ""
           },
           "bgcolor": "#E5ECF6",
           "radialaxis": {
            "gridcolor": "white",
            "linecolor": "white",
            "ticks": ""
           }
          },
          "scene": {
           "xaxis": {
            "backgroundcolor": "#E5ECF6",
            "gridcolor": "white",
            "gridwidth": 2,
            "linecolor": "white",
            "showbackground": true,
            "ticks": "",
            "zerolinecolor": "white"
           },
           "yaxis": {
            "backgroundcolor": "#E5ECF6",
            "gridcolor": "white",
            "gridwidth": 2,
            "linecolor": "white",
            "showbackground": true,
            "ticks": "",
            "zerolinecolor": "white"
           },
           "zaxis": {
            "backgroundcolor": "#E5ECF6",
            "gridcolor": "white",
            "gridwidth": 2,
            "linecolor": "white",
            "showbackground": true,
            "ticks": "",
            "zerolinecolor": "white"
           }
          },
          "shapedefaults": {
           "line": {
            "color": "#2a3f5f"
           }
          },
          "ternary": {
           "aaxis": {
            "gridcolor": "white",
            "linecolor": "white",
            "ticks": ""
           },
           "baxis": {
            "gridcolor": "white",
            "linecolor": "white",
            "ticks": ""
           },
           "bgcolor": "#E5ECF6",
           "caxis": {
            "gridcolor": "white",
            "linecolor": "white",
            "ticks": ""
           }
          },
          "title": {
           "x": 0.05
          },
          "xaxis": {
           "automargin": true,
           "gridcolor": "white",
           "linecolor": "white",
           "ticks": "",
           "title": {
            "standoff": 15
           },
           "zerolinecolor": "white",
           "zerolinewidth": 2
          },
          "yaxis": {
           "automargin": true,
           "gridcolor": "white",
           "linecolor": "white",
           "ticks": "",
           "title": {
            "standoff": 15
           },
           "zerolinecolor": "white",
           "zerolinewidth": 2
          }
         }
        },
        "xaxis": {
         "anchor": "y",
         "autorange": true,
         "domain": [
          0,
          1
         ],
         "dtick": 2000,
         "range": [
          750,
          30250
         ],
         "title": {
          "text": "rent"
         },
         "type": "linear"
        },
        "yaxis": {
         "anchor": "x",
         "autorange": true,
         "domain": [
          0,
          1
         ],
         "range": [
          0,
          203.1578947368421
         ],
         "title": {
          "text": "count"
         }
        }
       }
      },
      "image/png": "[encoded data removed]",
      "text/html": [
       "<div>                            <div id=\"a33e9e74-6847-4ae7-85db-3ea42a14aaa6\" class=\"plotly-graph-div\" style=\"height:525px; width:100%;\"></div>            <script type=\"text/javascript\">                require([\"plotly\"], function(Plotly) {                    window.PLOTLYENV=window.PLOTLYENV || {};                                    if (document.getElementById(\"a33e9e74-6847-4ae7-85db-3ea42a14aaa6\")) {                    Plotly.newPlot(                        \"a33e9e74-6847-4ae7-85db-3ea42a14aaa6\",                        [{\"alignmentgroup\":\"True\",\"bingroup\":\"x\",\"hovertemplate\":\"rent=%{x}<br>count=%{y}<extra></extra>\",\"legendgroup\":\"\",\"marker\":{\"color\":\"#636efa\",\"pattern\":{\"shape\":\"\"}},\"name\":\"\",\"offsetgroup\":\"\",\"orientation\":\"v\",\"showlegend\":false,\"x\":[5500.0,13600.0,3683.333333,3650.0,28300.0,18000.0,16000.0,2100.0,1800.0,12000.0,2850.0,1000.0,2995.0,3267.0,29200.0,2850.0,3495.0,3000.0,1695.0,3100.0,2200.0,4000.0,2200.0,3000.0,2400.0,1450.0,6000.0,3100.0,2870.0,1600.0,3750.0,2600.0,4000.0,2400.0,2499.0,3500.0,1534.0,3375.0,2800.0,2300.0,2500.0,2500.0,2500.0,1995.0,1600.0,2950.0,1421.0,5500.0,3200.0,10000.0,2500.0,5000.0,1126.666667,5000.0,1875.0,2400.0,1535.0,4050.0,1740.0,1658.0,3000.0,1700.0,2800.0,10000.0,4800.0,2950.0,2280.0,4500.0,2000.0,3200.0,1450.0,2450.0,8000.0,2550.0,2000.0,2950.0,1400.0,1350.0,2500.0,2200.0,2100.0,2150.0,2100.0,3450.0,8000.0,2700.0,6500.0,2500.0,2856.0,2100.0,2337.0,2900.0,2650.0,2074.0,1000.0,1700.0,2400.0,2550.0,2500.0,1150.0,2200.0,6000.0,3250.0,1500.0,2200.0,1500.0,1750.0,5400.0,1800.0,5400.0,1300.0,1540.0,1800.0,1100.0,2300.0,2200.0,1400.0,1758.0,1165.0,2144.0,2652.0,1950.0,2002.0,2100.0,1950.0,2305.0,2300.0,1350.0,2200.0,1800.0,1900.0,2200.0,2600.0,1800.0,2346.0,1150.0,1819.0,2346.0,2188.0,1936.0,2300.0,2495.0,1516.666667,3000.0,2000.0,2200.0,2980.0,1632.0,4246.666667,1900.0,1950.0,1600.0,2790.0,1781.0,2600.0,1780.0,2500.0,3300.0,2600.0,2378.0,3000.0,2030.0,1845.0,1650.0,2500.0,3500.0,2080.0,2744.0,2600.0,3488.0,1900.0,2300.0,3420.0,2800.0,3800.0,2454.0,1775.0,3050.0,2646.0,2600.0,3500.0,7500.0,2157.0,2500.0,2400.0,2600.0,1500.0,3500.0,2955.0,2500.0,2500.0,2700.0,2400.0,2500.0,2890.0,4000.0,2836.0,2300.0,6500.0,2600.0,2500.0,1900.0,3400.0,2950.0,12240.0,2395.0,12600.0,7000.0,2400.0,3500.0,2245.0,2245.0,4500.0,4250.0,4250.0,5000.0,2409.0,2350.0,4500.0,4250.0,1650.0,2450.0,2550.0,3450.0,4000.0,3577.0,2900.0,5000.0,2160.0,3270.0,3000.0,3800.0,2650.0,2426.0,2500.0,3950.0,1800.0,1800.0,2500.0,2200.0,2750.0,1200.0,3000.0,2499.0,2300.0,1406.0,3000.0,2340.0,1511.0,1250.0,1634.0,3900.0,2250.0,1780.0,2629.0,2100.0,2500.0,2850.0,2350.0,1950.0,2800.0,1899.0,2750.0,2650.0,1650.0,1700.0,1450.0,3750.0,1276.0,2300.0,2200.0,5000.0,2700.0,2196.0,2250.0,2400.0,2200.0,3000.0,1930.0,4500.0,2642.0,3500.0,5350.0,3750.0,1350.0,2700.0,3264.0,3100.0,2487.0,1535.0,5500.0,2700.0,3270.0,1739.0,2000.0,1000.0,3300.0,3255.0,5500.0,1400.0,5600.0,3500.0,2036.0,3300.0,1895.0,900.0,2200.0,2700.0,1800.0,2100.0,1895.0,3700.0,1200.0,2900.0,3200.0,1652.0,6000.0,2700.0,3430.0,2400.0,3033.333333,2000.0,3500.0,2484.0,1900.0,2979.0,1400.0,1350.0,2600.0,1495.0,2500.0,1800.0,3500.0,2200.0,1660.0,15000.0,1744.0,1300.0,1550.0,2343.0,2600.0,10550.0,3310.0,2670.0,12500.0,1750.0,2600.0,1200.0,3900.0,1975.0,20000.0,3105.0,1495.0,1500.0,3011.666667,2300.0,2000.0,2600.0,2383.333333,3185.0,4500.0,3500.0,3250.0,3500.0,4000.0,3445.0,2700.0,2950.0,3141.666667,3250.0,4000.0,3150.0,3250.0,2250.0,2250.0,2040.0,1100.0,1432.0,2350.0,1850.0,1554.0,1273.0,3300.0,1350.0,2295.0,10000.0,1295.0,2600.0,1495.0,1900.0,2150.0,1500.0,1500.0,1850.0,2000.0,1453.0,5000.0,1650.0,3000.0,1203.0,1461.0,1196.0,4500.0,2600.0,2800.0,1696.0,1456.0,2500.0,1850.0,3300.0,4500.0,2200.0,2950.0,4000.0,2500.0,2489.0,2700.0,2700.0,10000.0,2300.0,2965.0,3410.0,3162.0,2800.0,2500.0,2150.0,4200.0,950.0,10000.0,8000.0,4500.0,8500.0,2040.0,1948.0,2200.0,4500.0,2400.0,3500.0,4250.0,10500.0,2650.0,2182.0,1850.0,3374.0,2200.0,2710.0,3600.0,1750.0,2000.0,2200.0,7500.0,8500.0,2700.0,2100.0,2960.0,3050.0,1900.0,1776.0,7500.0,3500.0,2166.666667,4200.0,1900.0,1900.0,1562.0,8500.0,1302.0,1100.0,3500.0,2366.0,3500.0,1600.0,15000.0,1300.0,1950.0,1650.0,3650.0,2090.0,2450.0,3200.0,2200.0,7350.0,1600.0,2148.0,30000.0,1275.0,8750.0,1400.0,2300.0,1100.0,2250.0,1850.0,1300.0,1886.0,2900.0,2800.0,3650.0,2400.0,5190.0,2687.0,1300.0,1620.0,2300.0,6000.0,1482.0,3500.0,2395.0,3750.0,3000.0,3550.0,3450.0,3200.0,1240.0,2800.0,2050.0,4250.0,3750.0,1600.0,3300.0,2750.0,2385.0,1923.0,2500.0,1600.0,1500.0,2500.0,2400.0,1500.0,13500.0,1285.0,1600.0,2500.0,1300.0,1435.0,1814.0,1741.0,2693.0,1750.0,2350.0,1989.0,1825.0,1746.0,2400.0,2645.0,2500.0,1800.0,2400.0,1350.0,3000.0,2900.0,900.0,2800.0,2600.0,3000.0,5000.0,3950.0,2890.0,3200.0,1700.0,2600.0,2000.0,1500.0,1500.0,3500.0,1900.0,2495.0,5000.0,3500.0,5500.0,2700.0,1950.0,3000.0,2000.0,1148.333333,4000.0,3500.0,1550.0,2990.0,3500.0,2800.0,4500.0,1800.0,2407.0,1475.0,1235.0,1700.0,2200.0,1525.0,5620.0,2600.0,2000.0,3250.0,1750.0,1800.0,14000.0,2400.0,2700.0,2400.0,2600.0,2000.0,2350.0,3500.0,2500.0,2300.0,2600.0,2200.0,1150.0,1130.0,2250.0,1686.0,1953.0,1600.0,1350.0,1200.0,2448.0,3445.0,2200.0,2339.0,3300.0,2599.0,4000.0,2383.333333,2000.0,1375.0,2500.0,1350.0,1425.0,2600.0,2040.0,1900.0,3057.0,3000.0,3250.0,1970.0,4000.0,1663.0,2115.0,6500.0,1150.0,1150.0,2465.0,6500.0,2470.0,1800.0,1500.0,4000.0,7080.0,5950.0,3079.0,2629.0,6591.0,1754.0,2410.0,1815.0,1880.0,3000.0,2065.0,2250.0,3000.0,3000.0,1880.0,2300.0,1900.0,2365.0,2400.0,1875.0,1850.0,1300.0,2125.0,2175.0,2500.0,2650.0,1925.0,2900.0,1900.0,2675.0,6200.0,1950.0,1990.0,2050.0,2423.0,4200.0,2575.0,3100.0,3500.0,2450.0,2025.0,2708.0,2825.0,2300.0,3400.0,2000.0,2264.0,1650.0,1300.0,3200.0,3250.0,2440.0,2400.0,3796.0,3953.0,4000.0,1700.0,2500.0,2600.0,2600.0,4450.0,2300.0,2000.0,9100.0,1850.0,2308.0,3450.0,2600.0,1990.0,1550.0,1126.666667,2000.0,4000.0,2431.0,2400.0,1400.0,2500.0,2800.0,1875.0,1800.0,3000.0,1083.333333,2555.0,5350.0,2800.0,2715.0,3500.0,3780.0,4500.0,2350.0,1800.0,2750.0,2200.0,2295.0,3380.0,1256.666667,2100.0,3200.0,2850.0,4140.0,1750.0,4500.0,2400.0,2000.0,3400.0,5500.0,2000.0,3000.0,1857.0,2458.0,8000.0,1371.0,2500.0,1805.0,1550.0,1250.0,2300.0,2100.0,2170.0,1800.0,2448.0,1758.0,2336.0,2200.0,2077.0,1900.0,2300.0,1155.0,2588.0,4000.0,1400.0,2200.0,1726.0,3400.0,2100.0,2400.0,3700.0,1450.0,1630.0,2500.0,3800.0,3800.0,1535.0,1300.0,1800.0,2192.0,4000.0,2770.0,1250.0,2500.0,2838.0,950.0,1863.3333333333333,1048.0,2200.0,1500.0,3000.0,4280.0,1800.0,4080.0,2350.0],\"xaxis\":\"x\",\"yaxis\":\"y\",\"type\":\"histogram\"}],                        {\"template\":{\"data\":{\"histogram2dcontour\":[{\"type\":\"histogram2dcontour\",\"colorbar\":{\"outlinewidth\":0,\"ticks\":\"\"},\"colorscale\":[[0.0,\"#0d0887\"],[0.1111111111111111,\"#46039f\"],[0.2222222222222222,\"#7201a8\"],[0.3333333333333333,\"#9c179e\"],[0.4444444444444444,\"#bd3786\"],[0.5555555555555556,\"#d8576b\"],[0.6666666666666666,\"#ed7953\"],[0.7777777777777778,\"#fb9f3a\"],[0.8888888888888888,\"#fdca26\"],[1.0,\"#f0f921\"]]}],\"choropleth\":[{\"type\":\"choropleth\",\"colorbar\":{\"outlinewidth\":0,\"ticks\":\"\"}}],\"histogram2d\":[{\"type\":\"histogram2d\",\"colorbar\":{\"outlinewidth\":0,\"ticks\":\"\"},\"colorscale\":[[0.0,\"#0d0887\"],[0.1111111111111111,\"#46039f\"],[0.2222222222222222,\"#7201a8\"],[0.3333333333333333,\"#9c179e\"],[0.4444444444444444,\"#bd3786\"],[0.5555555555555556,\"#d8576b\"],[0.6666666666666666,\"#ed7953\"],[0.7777777777777778,\"#fb9f3a\"],[0.8888888888888888,\"#fdca26\"],[1.0,\"#f0f921\"]]}],\"heatmap\":[{\"type\":\"heatmap\",\"colorbar\":{\"outlinewidth\":0,\"ticks\":\"\"},\"colorscale\":[[0.0,\"#0d0887\"],[0.1111111111111111,\"#46039f\"],[0.2222222222222222,\"#7201a8\"],[0.3333333333333333,\"#9c179e\"],[0.4444444444444444,\"#bd3786\"],[0.5555555555555556,\"#d8576b\"],[0.6666666666666666,\"#ed7953\"],[0.7777777777777778,\"#fb9f3a\"],[0.8888888888888888,\"#fdca26\"],[1.0,\"#f0f921\"]]}],\"heatmapgl\":[{\"type\":\"heatmapgl\",\"colorbar\":{\"outlinewidth\":0,\"ticks\":\"\"},\"colorscale\":[[0.0,\"#0d0887\"],[0.1111111111111111,\"#46039f\"],[0.2222222222222222,\"#7201a8\"],[0.3333333333333333,\"#9c179e\"],[0.4444444444444444,\"#bd3786\"],[0.5555555555555556,\"#d8576b\"],[0.6666666666666666,\"#ed7953\"],[0.7777777777777778,\"#fb9f3a\"],[0.8888888888888888,\"#fdca26\"],[1.0,\"#f0f921\"]]}],\"contourcarpet\":[{\"type\":\"contourcarpet\",\"colorbar\":{\"outlinewidth\":0,\"ticks\":\"\"}}],\"contour\":[{\"type\":\"contour\",\"colorbar\":{\"outlinewidth\":0,\"ticks\":\"\"},\"colorscale\":[[0.0,\"#0d0887\"],[0.1111111111111111,\"#46039f\"],[0.2222222222222222,\"#7201a8\"],[0.3333333333333333,\"#9c179e\"],[0.4444444444444444,\"#bd3786\"],[0.5555555555555556,\"#d8576b\"],[0.6666666666666666,\"#ed7953\"],[0.7777777777777778,\"#fb9f3a\"],[0.8888888888888888,\"#fdca26\"],[1.0,\"#f0f921\"]]}],\"surface\":[{\"type\":\"surface\",\"colorbar\":{\"outlinewidth\":0,\"ticks\":\"\"},\"colorscale\":[[0.0,\"#0d0887\"],[0.1111111111111111,\"#46039f\"],[0.2222222222222222,\"#7201a8\"],[0.3333333333333333,\"#9c179e\"],[0.4444444444444444,\"#bd3786\"],[0.5555555555555556,\"#d8576b\"],[0.6666666666666666,\"#ed7953\"],[0.7777777777777778,\"#fb9f3a\"],[0.8888888888888888,\"#fdca26\"],[1.0,\"#f0f921\"]]}],\"mesh3d\":[{\"type\":\"mesh3d\",\"colorbar\":{\"outlinewidth\":0,\"ticks\":\"\"}}],\"scatter\":[{\"fillpattern\":{\"fillmode\":\"overlay\",\"size\":10,\"solidity\":0.2},\"type\":\"scatter\"}],\"parcoords\":[{\"type\":\"parcoords\",\"line\":{\"colorbar\":{\"outlinewidth\":0,\"ticks\":\"\"}}}],\"scatterpolargl\":[{\"type\":\"scatterpolargl\",\"marker\":{\"colorbar\":{\"outlinewidth\":0,\"ticks\":\"\"}}}],\"bar\":[{\"error_x\":{\"color\":\"#2a3f5f\"},\"error_y\":{\"color\":\"#2a3f5f\"},\"marker\":{\"line\":{\"color\":\"#E5ECF6\",\"width\":0.5},\"pattern\":{\"fillmode\":\"overlay\",\"size\":10,\"solidity\":0.2}},\"type\":\"bar\"}],\"scattergeo\":[{\"type\":\"scattergeo\",\"marker\":{\"colorbar\":{\"outlinewidth\":0,\"ticks\":\"\"}}}],\"scatterpolar\":[{\"type\":\"scatterpolar\",\"marker\":{\"colorbar\":{\"outlinewidth\":0,\"ticks\":\"\"}}}],\"histogram\":[{\"marker\":{\"pattern\":{\"fillmode\":\"overlay\",\"size\":10,\"solidity\":0.2}},\"type\":\"histogram\"}],\"scattergl\":[{\"type\":\"scattergl\",\"marker\":{\"colorbar\":{\"outlinewidth\":0,\"ticks\":\"\"}}}],\"scatter3d\":[{\"type\":\"scatter3d\",\"line\":{\"colorbar\":{\"outlinewidth\":0,\"ticks\":\"\"}},\"marker\":{\"colorbar\":{\"outlinewidth\":0,\"ticks\":\"\"}}}],\"scattermapbox\":[{\"type\":\"scattermapbox\",\"marker\":{\"colorbar\":{\"outlinewidth\":0,\"ticks\":\"\"}}}],\"scatterternary\":[{\"type\":\"scatterternary\",\"marker\":{\"colorbar\":{\"outlinewidth\":0,\"ticks\":\"\"}}}],\"scattercarpet\":[{\"type\":\"scattercarpet\",\"marker\":{\"colorbar\":{\"outlinewidth\":0,\"ticks\":\"\"}}}],\"carpet\":[{\"aaxis\":{\"endlinecolor\":\"#2a3f5f\",\"gridcolor\":\"white\",\"linecolor\":\"white\",\"minorgridcolor\":\"white\",\"startlinecolor\":\"#2a3f5f\"},\"baxis\":{\"endlinecolor\":\"#2a3f5f\",\"gridcolor\":\"white\",\"linecolor\":\"white\",\"minorgridcolor\":\"white\",\"startlinecolor\":\"#2a3f5f\"},\"type\":\"carpet\"}],\"table\":[{\"cells\":{\"fill\":{\"color\":\"#EBF0F8\"},\"line\":{\"color\":\"white\"}},\"header\":{\"fill\":{\"color\":\"#C8D4E3\"},\"line\":{\"color\":\"white\"}},\"type\":\"table\"}],\"barpolar\":[{\"marker\":{\"line\":{\"color\":\"#E5ECF6\",\"width\":0.5},\"pattern\":{\"fillmode\":\"overlay\",\"size\":10,\"solidity\":0.2}},\"type\":\"barpolar\"}],\"pie\":[{\"automargin\":true,\"type\":\"pie\"}]},\"layout\":{\"autotypenumbers\":\"strict\",\"colorway\":[\"#636efa\",\"#EF553B\",\"#00cc96\",\"#ab63fa\",\"#FFA15A\",\"#19d3f3\",\"#FF6692\",\"#B6E880\",\"#FF97FF\",\"#FECB52\"],\"font\":{\"color\":\"#2a3f5f\"},\"hovermode\":\"closest\",\"hoverlabel\":{\"align\":\"left\"},\"paper_bgcolor\":\"white\",\"plot_bgcolor\":\"#E5ECF6\",\"polar\":{\"bgcolor\":\"#E5ECF6\",\"angularaxis\":{\"gridcolor\":\"white\",\"linecolor\":\"white\",\"ticks\":\"\"},\"radialaxis\":{\"gridcolor\":\"white\",\"linecolor\":\"white\",\"ticks\":\"\"}},\"ternary\":{\"bgcolor\":\"#E5ECF6\",\"aaxis\":{\"gridcolor\":\"white\",\"linecolor\":\"white\",\"ticks\":\"\"},\"baxis\":{\"gridcolor\":\"white\",\"linecolor\":\"white\",\"ticks\":\"\"},\"caxis\":{\"gridcolor\":\"white\",\"linecolor\":\"white\",\"ticks\":\"\"}},\"coloraxis\":{\"colorbar\":{\"outlinewidth\":0,\"ticks\":\"\"}},\"colorscale\":{\"sequential\":[[0.0,\"#0d0887\"],[0.1111111111111111,\"#46039f\"],[0.2222222222222222,\"#7201a8\"],[0.3333333333333333,\"#9c179e\"],[0.4444444444444444,\"#bd3786\"],[0.5555555555555556,\"#d8576b\"],[0.6666666666666666,\"#ed7953\"],[0.7777777777777778,\"#fb9f3a\"],[0.8888888888888888,\"#fdca26\"],[1.0,\"#f0f921\"]],\"sequentialminus\":[[0.0,\"#0d0887\"],[0.1111111111111111,\"#46039f\"],[0.2222222222222222,\"#7201a8\"],[0.3333333333333333,\"#9c179e\"],[0.4444444444444444,\"#bd3786\"],[0.5555555555555556,\"#d8576b\"],[0.6666666666666666,\"#ed7953\"],[0.7777777777777778,\"#fb9f3a\"],[0.8888888888888888,\"#fdca26\"],[1.0,\"#f0f921\"]],\"diverging\":[[0,\"#8e0152\"],[0.1,\"#c51b7d\"],[0.2,\"#de77ae\"],[0.3,\"#f1b6da\"],[0.4,\"#fde0ef\"],[0.5,\"#f7f7f7\"],[0.6,\"#e6f5d0\"],[0.7,\"#b8e186\"],[0.8,\"#7fbc41\"],[0.9,\"#4d9221\"],[1,\"#276419\"]]},\"xaxis\":{\"gridcolor\":\"white\",\"linecolor\":\"white\",\"ticks\":\"\",\"title\":{\"standoff\":15},\"zerolinecolor\":\"white\",\"automargin\":true,\"zerolinewidth\":2},\"yaxis\":{\"gridcolor\":\"white\",\"linecolor\":\"white\",\"ticks\":\"\",\"title\":{\"standoff\":15},\"zerolinecolor\":\"white\",\"automargin\":true,\"zerolinewidth\":2},\"scene\":{\"xaxis\":{\"backgroundcolor\":\"#E5ECF6\",\"gridcolor\":\"white\",\"linecolor\":\"white\",\"showbackground\":true,\"ticks\":\"\",\"zerolinecolor\":\"white\",\"gridwidth\":2},\"yaxis\":{\"backgroundcolor\":\"#E5ECF6\",\"gridcolor\":\"white\",\"linecolor\":\"white\",\"showbackground\":true,\"ticks\":\"\",\"zerolinecolor\":\"white\",\"gridwidth\":2},\"zaxis\":{\"backgroundcolor\":\"#E5ECF6\",\"gridcolor\":\"white\",\"linecolor\":\"white\",\"showbackground\":true,\"ticks\":\"\",\"zerolinecolor\":\"white\",\"gridwidth\":2}},\"shapedefaults\":{\"line\":{\"color\":\"#2a3f5f\"}},\"annotationdefaults\":{\"arrowcolor\":\"#2a3f5f\",\"arrowhead\":0,\"arrowwidth\":1},\"geo\":{\"bgcolor\":\"white\",\"landcolor\":\"#E5ECF6\",\"subunitcolor\":\"white\",\"showland\":true,\"showlakes\":true,\"lakecolor\":\"white\"},\"title\":{\"x\":0.05},\"mapbox\":{\"style\":\"light\"}}},\"xaxis\":{\"anchor\":\"y\",\"domain\":[0.0,1.0],\"title\":{\"text\":\"rent\"},\"dtick\":2000},\"yaxis\":{\"anchor\":\"x\",\"domain\":[0.0,1.0],\"title\":{\"text\":\"count\"}},\"legend\":{\"tracegroupgap\":0},\"margin\":{\"t\":60},\"barmode\":\"relative\"},                        {\"responsive\": true}                    ).then(function(){\n",
       "                            \n",
       "var gd = document.getElementById('a33e9e74-6847-4ae7-85db-3ea42a14aaa6');\n",
       "var x = new MutationObserver(function (mutations, observer) {{\n",
       "        var display = window.getComputedStyle(gd).display;\n",
       "        if (!display || display === 'none') {{\n",
       "            console.log([gd, 'removed!']);\n",
       "            Plotly.purge(gd);\n",
       "            observer.disconnect();\n",
       "        }}\n",
       "}});\n",
       "\n",
       "// Listen for the removal of the full notebook cells\n",
       "var notebookContainer = gd.closest('#notebook-container');\n",
       "if (notebookContainer) {{\n",
       "    x.observe(notebookContainer, {childList: true});\n",
       "}}\n",
       "\n",
       "// Listen for the clearing of the current output cell\n",
       "var outputEl = gd.closest('.output');\n",
       "if (outputEl) {{\n",
       "    x.observe(outputEl, {childList: true});\n",
       "}}\n",
       "\n",
       "                        })                };                });            </script>        </div>"
      ]
     },
     "metadata": {},
     "output_type": "display_data"
    }
   ],
   "source": [
    "fig = px.histogram(df, x='rent')\n",
    "fig.update_xaxes(dtick=2000)\n",
    "\n",
    "fig.show()"
   ]
  },
  {
   "cell_type": "code",
   "execution_count": 441,
   "id": "2c784654-08d8-48c0-8d58-483459bdaeef",
   "metadata": {
    "tags": []
   },
   "outputs": [
    {
     "data": {
      "application/vnd.plotly.v1+json": {
       "config": {
        "plotlyServerURL": "https://plot.ly"
       },
       "data": [
        {
         "alignmentgroup": "True",
         "hovertemplate": "rent=%{y}<extra></extra>",
         "legendgroup": "",
         "marker": {
          "color": "#636efa"
         },
         "name": "",
         "notched": false,
         "offsetgroup": "",
         "orientation": "v",
         "showlegend": false,
         "type": "box",
         "x0": " ",
         "xaxis": "x",
         "y": [
          5500,
          13600,
          3683.333333,
          3650,
          28300,
          18000,
          16000,
          2100,
          1800,
          12000,
          2850,
          1000,
          2995,
          3267,
          29200,
          2850,
          3495,
          3000,
          1695,
          3100,
          2200,
          4000,
          2200,
          3000,
          2400,
          1450,
          6000,
          3100,
          2870,
          1600,
          3750,
          2600,
          4000,
          2400,
          2499,
          3500,
          1534,
          3375,
          2800,
          2300,
          2500,
          2500,
          2500,
          1995,
          1600,
          2950,
          1421,
          5500,
          3200,
          10000,
          2500,
          5000,
          1126.666667,
          5000,
          1875,
          2400,
          1535,
          4050,
          1740,
          1658,
          3000,
          1700,
          2800,
          10000,
          4800,
          2950,
          2280,
          4500,
          2000,
          3200,
          1450,
          2450,
          8000,
          2550,
          2000,
          2950,
          1400,
          1350,
          2500,
          2200,
          2100,
          2150,
          2100,
          3450,
          8000,
          2700,
          6500,
          2500,
          2856,
          2100,
          2337,
          2900,
          2650,
          2074,
          1000,
          1700,
          2400,
          2550,
          2500,
          1150,
          2200,
          6000,
          3250,
          1500,
          2200,
          1500,
          1750,
          5400,
          1800,
          5400,
          1300,
          1540,
          1800,
          1100,
          2300,
          2200,
          1400,
          1758,
          1165,
          2144,
          2652,
          1950,
          2002,
          2100,
          1950,
          2305,
          2300,
          1350,
          2200,
          1800,
          1900,
          2200,
          2600,
          1800,
          2346,
          1150,
          1819,
          2346,
          2188,
          1936,
          2300,
          2495,
          1516.666667,
          3000,
          2000,
          2200,
          2980,
          1632,
          4246.666667,
          1900,
          1950,
          1600,
          2790,
          1781,
          2600,
          1780,
          2500,
          3300,
          2600,
          2378,
          3000,
          2030,
          1845,
          1650,
          2500,
          3500,
          2080,
          2744,
          2600,
          3488,
          1900,
          2300,
          3420,
          2800,
          3800,
          2454,
          1775,
          3050,
          2646,
          2600,
          3500,
          7500,
          2157,
          2500,
          2400,
          2600,
          1500,
          3500,
          2955,
          2500,
          2500,
          2700,
          2400,
          2500,
          2890,
          4000,
          2836,
          2300,
          6500,
          2600,
          2500,
          1900,
          3400,
          2950,
          12240,
          2395,
          12600,
          7000,
          2400,
          3500,
          2245,
          2245,
          4500,
          4250,
          4250,
          5000,
          2409,
          2350,
          4500,
          4250,
          1650,
          2450,
          2550,
          3450,
          4000,
          3577,
          2900,
          5000,
          2160,
          3270,
          3000,
          3800,
          2650,
          2426,
          2500,
          3950,
          1800,
          1800,
          2500,
          2200,
          2750,
          1200,
          3000,
          2499,
          2300,
          1406,
          3000,
          2340,
          1511,
          1250,
          1634,
          3900,
          2250,
          1780,
          2629,
          2100,
          2500,
          2850,
          2350,
          1950,
          2800,
          1899,
          2750,
          2650,
          1650,
          1700,
          1450,
          3750,
          1276,
          2300,
          2200,
          5000,
          2700,
          2196,
          2250,
          2400,
          2200,
          3000,
          1930,
          4500,
          2642,
          3500,
          5350,
          3750,
          1350,
          2700,
          3264,
          3100,
          2487,
          1535,
          5500,
          2700,
          3270,
          1739,
          2000,
          1000,
          3300,
          3255,
          5500,
          1400,
          5600,
          3500,
          2036,
          3300,
          1895,
          900,
          2200,
          2700,
          1800,
          2100,
          1895,
          3700,
          1200,
          2900,
          3200,
          1652,
          6000,
          2700,
          3430,
          2400,
          3033.333333,
          2000,
          3500,
          2484,
          1900,
          2979,
          1400,
          1350,
          2600,
          1495,
          2500,
          1800,
          3500,
          2200,
          1660,
          15000,
          1744,
          1300,
          1550,
          2343,
          2600,
          10550,
          3310,
          2670,
          12500,
          1750,
          2600,
          1200,
          3900,
          1975,
          20000,
          3105,
          1495,
          1500,
          3011.666667,
          2300,
          2000,
          2600,
          2383.333333,
          3185,
          4500,
          3500,
          3250,
          3500,
          4000,
          3445,
          2700,
          2950,
          3141.666667,
          3250,
          4000,
          3150,
          3250,
          2250,
          2250,
          2040,
          1100,
          1432,
          2350,
          1850,
          1554,
          1273,
          3300,
          1350,
          2295,
          10000,
          1295,
          2600,
          1495,
          1900,
          2150,
          1500,
          1500,
          1850,
          2000,
          1453,
          5000,
          1650,
          3000,
          1203,
          1461,
          1196,
          4500,
          2600,
          2800,
          1696,
          1456,
          2500,
          1850,
          3300,
          4500,
          2200,
          2950,
          4000,
          2500,
          2489,
          2700,
          2700,
          10000,
          2300,
          2965,
          3410,
          3162,
          2800,
          2500,
          2150,
          4200,
          950,
          10000,
          8000,
          4500,
          8500,
          2040,
          1948,
          2200,
          4500,
          2400,
          3500,
          4250,
          10500,
          2650,
          2182,
          1850,
          3374,
          2200,
          2710,
          3600,
          1750,
          2000,
          2200,
          7500,
          8500,
          2700,
          2100,
          2960,
          3050,
          1900,
          1776,
          7500,
          3500,
          2166.666667,
          4200,
          1900,
          1900,
          1562,
          8500,
          1302,
          1100,
          3500,
          2366,
          3500,
          1600,
          15000,
          1300,
          1950,
          1650,
          3650,
          2090,
          2450,
          3200,
          2200,
          7350,
          1600,
          2148,
          30000,
          1275,
          8750,
          1400,
          2300,
          1100,
          2250,
          1850,
          1300,
          1886,
          2900,
          2800,
          3650,
          2400,
          5190,
          2687,
          1300,
          1620,
          2300,
          6000,
          1482,
          3500,
          2395,
          3750,
          3000,
          3550,
          3450,
          3200,
          1240,
          2800,
          2050,
          4250,
          3750,
          1600,
          3300,
          2750,
          2385,
          1923,
          2500,
          1600,
          1500,
          2500,
          2400,
          1500,
          13500,
          1285,
          1600,
          2500,
          1300,
          1435,
          1814,
          1741,
          2693,
          1750,
          2350,
          1989,
          1825,
          1746,
          2400,
          2645,
          2500,
          1800,
          2400,
          1350,
          3000,
          2900,
          900,
          2800,
          2600,
          3000,
          5000,
          3950,
          2890,
          3200,
          1700,
          2600,
          2000,
          1500,
          1500,
          3500,
          1900,
          2495,
          5000,
          3500,
          5500,
          2700,
          1950,
          3000,
          2000,
          1148.333333,
          4000,
          3500,
          1550,
          2990,
          3500,
          2800,
          4500,
          1800,
          2407,
          1475,
          1235,
          1700,
          2200,
          1525,
          5620,
          2600,
          2000,
          3250,
          1750,
          1800,
          14000,
          2400,
          2700,
          2400,
          2600,
          2000,
          2350,
          3500,
          2500,
          2300,
          2600,
          2200,
          1150,
          1130,
          2250,
          1686,
          1953,
          1600,
          1350,
          1200,
          2448,
          3445,
          2200,
          2339,
          3300,
          2599,
          4000,
          2383.333333,
          2000,
          1375,
          2500,
          1350,
          1425,
          2600,
          2040,
          1900,
          3057,
          3000,
          3250,
          1970,
          4000,
          1663,
          2115,
          6500,
          1150,
          1150,
          2465,
          6500,
          2470,
          1800,
          1500,
          4000,
          7080,
          5950,
          3079,
          2629,
          6591,
          1754,
          2410,
          1815,
          1880,
          3000,
          2065,
          2250,
          3000,
          3000,
          1880,
          2300,
          1900,
          2365,
          2400,
          1875,
          1850,
          1300,
          2125,
          2175,
          2500,
          2650,
          1925,
          2900,
          1900,
          2675,
          6200,
          1950,
          1990,
          2050,
          2423,
          4200,
          2575,
          3100,
          3500,
          2450,
          2025,
          2708,
          2825,
          2300,
          3400,
          2000,
          2264,
          1650,
          1300,
          3200,
          3250,
          2440,
          2400,
          3796,
          3953,
          4000,
          1700,
          2500,
          2600,
          2600,
          4450,
          2300,
          2000,
          9100,
          1850,
          2308,
          3450,
          2600,
          1990,
          1550,
          1126.666667,
          2000,
          4000,
          2431,
          2400,
          1400,
          2500,
          2800,
          1875,
          1800,
          3000,
          1083.333333,
          2555,
          5350,
          2800,
          2715,
          3500,
          3780,
          4500,
          2350,
          1800,
          2750,
          2200,
          2295,
          3380,
          1256.666667,
          2100,
          3200,
          2850,
          4140,
          1750,
          4500,
          2400,
          2000,
          3400,
          5500,
          2000,
          3000,
          1857,
          2458,
          8000,
          1371,
          2500,
          1805,
          1550,
          1250,
          2300,
          2100,
          2170,
          1800,
          2448,
          1758,
          2336,
          2200,
          2077,
          1900,
          2300,
          1155,
          2588,
          4000,
          1400,
          2200,
          1726,
          3400,
          2100,
          2400,
          3700,
          1450,
          1630,
          2500,
          3800,
          3800,
          1535,
          1300,
          1800,
          2192,
          4000,
          2770,
          1250,
          2500,
          2838,
          950,
          1863.3333333333333,
          1048,
          2200,
          1500,
          3000,
          4280,
          1800,
          4080,
          2350
         ],
         "y0": " ",
         "yaxis": "y"
        }
       ],
       "layout": {
        "autosize": true,
        "boxmode": "group",
        "legend": {
         "tracegroupgap": 0
        },
        "margin": {
         "t": 60
        },
        "template": {
         "data": {
          "bar": [
           {
            "error_x": {
             "color": "#2a3f5f"
            },
            "error_y": {
             "color": "#2a3f5f"
            },
            "marker": {
             "line": {
              "color": "#E5ECF6",
              "width": 0.5
             },
             "pattern": {
              "fillmode": "overlay",
              "size": 10,
              "solidity": 0.2
             }
            },
            "type": "bar"
           }
          ],
          "barpolar": [
           {
            "marker": {
             "line": {
              "color": "#E5ECF6",
              "width": 0.5
             },
             "pattern": {
              "fillmode": "overlay",
              "size": 10,
              "solidity": 0.2
             }
            },
            "type": "barpolar"
           }
          ],
          "carpet": [
           {
            "aaxis": {
             "endlinecolor": "#2a3f5f",
             "gridcolor": "white",
             "linecolor": "white",
             "minorgridcolor": "white",
             "startlinecolor": "#2a3f5f"
            },
            "baxis": {
             "endlinecolor": "#2a3f5f",
             "gridcolor": "white",
             "linecolor": "white",
             "minorgridcolor": "white",
             "startlinecolor": "#2a3f5f"
            },
            "type": "carpet"
           }
          ],
          "choropleth": [
           {
            "colorbar": {
             "outlinewidth": 0,
             "ticks": ""
            },
            "type": "choropleth"
           }
          ],
          "contour": [
           {
            "colorbar": {
             "outlinewidth": 0,
             "ticks": ""
            },
            "colorscale": [
             [
              0,
              "#0d0887"
             ],
             [
              0.1111111111111111,
              "#46039f"
             ],
             [
              0.2222222222222222,
              "#7201a8"
             ],
             [
              0.3333333333333333,
              "#9c179e"
             ],
             [
              0.4444444444444444,
              "#bd3786"
             ],
             [
              0.5555555555555556,
              "#d8576b"
             ],
             [
              0.6666666666666666,
              "#ed7953"
             ],
             [
              0.7777777777777778,
              "#fb9f3a"
             ],
             [
              0.8888888888888888,
              "#fdca26"
             ],
             [
              1,
              "#f0f921"
             ]
            ],
            "type": "contour"
           }
          ],
          "contourcarpet": [
           {
            "colorbar": {
             "outlinewidth": 0,
             "ticks": ""
            },
            "type": "contourcarpet"
           }
          ],
          "heatmap": [
           {
            "colorbar": {
             "outlinewidth": 0,
             "ticks": ""
            },
            "colorscale": [
             [
              0,
              "#0d0887"
             ],
             [
              0.1111111111111111,
              "#46039f"
             ],
             [
              0.2222222222222222,
              "#7201a8"
             ],
             [
              0.3333333333333333,
              "#9c179e"
             ],
             [
              0.4444444444444444,
              "#bd3786"
             ],
             [
              0.5555555555555556,
              "#d8576b"
             ],
             [
              0.6666666666666666,
              "#ed7953"
             ],
             [
              0.7777777777777778,
              "#fb9f3a"
             ],
             [
              0.8888888888888888,
              "#fdca26"
             ],
             [
              1,
              "#f0f921"
             ]
            ],
            "type": "heatmap"
           }
          ],
          "heatmapgl": [
           {
            "colorbar": {
             "outlinewidth": 0,
             "ticks": ""
            },
            "colorscale": [
             [
              0,
              "#0d0887"
             ],
             [
              0.1111111111111111,
              "#46039f"
             ],
             [
              0.2222222222222222,
              "#7201a8"
             ],
             [
              0.3333333333333333,
              "#9c179e"
             ],
             [
              0.4444444444444444,
              "#bd3786"
             ],
             [
              0.5555555555555556,
              "#d8576b"
             ],
             [
              0.6666666666666666,
              "#ed7953"
             ],
             [
              0.7777777777777778,
              "#fb9f3a"
             ],
             [
              0.8888888888888888,
              "#fdca26"
             ],
             [
              1,
              "#f0f921"
             ]
            ],
            "type": "heatmapgl"
           }
          ],
          "histogram": [
           {
            "marker": {
             "pattern": {
              "fillmode": "overlay",
              "size": 10,
              "solidity": 0.2
             }
            },
            "type": "histogram"
           }
          ],
          "histogram2d": [
           {
            "colorbar": {
             "outlinewidth": 0,
             "ticks": ""
            },
            "colorscale": [
             [
              0,
              "#0d0887"
             ],
             [
              0.1111111111111111,
              "#46039f"
             ],
             [
              0.2222222222222222,
              "#7201a8"
             ],
             [
              0.3333333333333333,
              "#9c179e"
             ],
             [
              0.4444444444444444,
              "#bd3786"
             ],
             [
              0.5555555555555556,
              "#d8576b"
             ],
             [
              0.6666666666666666,
              "#ed7953"
             ],
             [
              0.7777777777777778,
              "#fb9f3a"
             ],
             [
              0.8888888888888888,
              "#fdca26"
             ],
             [
              1,
              "#f0f921"
             ]
            ],
            "type": "histogram2d"
           }
          ],
          "histogram2dcontour": [
           {
            "colorbar": {
             "outlinewidth": 0,
             "ticks": ""
            },
            "colorscale": [
             [
              0,
              "#0d0887"
             ],
             [
              0.1111111111111111,
              "#46039f"
             ],
             [
              0.2222222222222222,
              "#7201a8"
             ],
             [
              0.3333333333333333,
              "#9c179e"
             ],
             [
              0.4444444444444444,
              "#bd3786"
             ],
             [
              0.5555555555555556,
              "#d8576b"
             ],
             [
              0.6666666666666666,
              "#ed7953"
             ],
             [
              0.7777777777777778,
              "#fb9f3a"
             ],
             [
              0.8888888888888888,
              "#fdca26"
             ],
             [
              1,
              "#f0f921"
             ]
            ],
            "type": "histogram2dcontour"
           }
          ],
          "mesh3d": [
           {
            "colorbar": {
             "outlinewidth": 0,
             "ticks": ""
            },
            "type": "mesh3d"
           }
          ],
          "parcoords": [
           {
            "line": {
             "colorbar": {
              "outlinewidth": 0,
              "ticks": ""
             }
            },
            "type": "parcoords"
           }
          ],
          "pie": [
           {
            "automargin": true,
            "type": "pie"
           }
          ],
          "scatter": [
           {
            "fillpattern": {
             "fillmode": "overlay",
             "size": 10,
             "solidity": 0.2
            },
            "type": "scatter"
           }
          ],
          "scatter3d": [
           {
            "line": {
             "colorbar": {
              "outlinewidth": 0,
              "ticks": ""
             }
            },
            "marker": {
             "colorbar": {
              "outlinewidth": 0,
              "ticks": ""
             }
            },
            "type": "scatter3d"
           }
          ],
          "scattercarpet": [
           {
            "marker": {
             "colorbar": {
              "outlinewidth": 0,
              "ticks": ""
             }
            },
            "type": "scattercarpet"
           }
          ],
          "scattergeo": [
           {
            "marker": {
             "colorbar": {
              "outlinewidth": 0,
              "ticks": ""
             }
            },
            "type": "scattergeo"
           }
          ],
          "scattergl": [
           {
            "marker": {
             "colorbar": {
              "outlinewidth": 0,
              "ticks": ""
             }
            },
            "type": "scattergl"
           }
          ],
          "scattermapbox": [
           {
            "marker": {
             "colorbar": {
              "outlinewidth": 0,
              "ticks": ""
             }
            },
            "type": "scattermapbox"
           }
          ],
          "scatterpolar": [
           {
            "marker": {
             "colorbar": {
              "outlinewidth": 0,
              "ticks": ""
             }
            },
            "type": "scatterpolar"
           }
          ],
          "scatterpolargl": [
           {
            "marker": {
             "colorbar": {
              "outlinewidth": 0,
              "ticks": ""
             }
            },
            "type": "scatterpolargl"
           }
          ],
          "scatterternary": [
           {
            "marker": {
             "colorbar": {
              "outlinewidth": 0,
              "ticks": ""
             }
            },
            "type": "scatterternary"
           }
          ],
          "surface": [
           {
            "colorbar": {
             "outlinewidth": 0,
             "ticks": ""
            },
            "colorscale": [
             [
              0,
              "#0d0887"
             ],
             [
              0.1111111111111111,
              "#46039f"
             ],
             [
              0.2222222222222222,
              "#7201a8"
             ],
             [
              0.3333333333333333,
              "#9c179e"
             ],
             [
              0.4444444444444444,
              "#bd3786"
             ],
             [
              0.5555555555555556,
              "#d8576b"
             ],
             [
              0.6666666666666666,
              "#ed7953"
             ],
             [
              0.7777777777777778,
              "#fb9f3a"
             ],
             [
              0.8888888888888888,
              "#fdca26"
             ],
             [
              1,
              "#f0f921"
             ]
            ],
            "type": "surface"
           }
          ],
          "table": [
           {
            "cells": {
             "fill": {
              "color": "#EBF0F8"
             },
             "line": {
              "color": "white"
             }
            },
            "header": {
             "fill": {
              "color": "#C8D4E3"
             },
             "line": {
              "color": "white"
             }
            },
            "type": "table"
           }
          ]
         },
         "layout": {
          "annotationdefaults": {
           "arrowcolor": "#2a3f5f",
           "arrowhead": 0,
           "arrowwidth": 1
          },
          "autotypenumbers": "strict",
          "coloraxis": {
           "colorbar": {
            "outlinewidth": 0,
            "ticks": ""
           }
          },
          "colorscale": {
           "diverging": [
            [
             0,
             "#8e0152"
            ],
            [
             0.1,
             "#c51b7d"
            ],
            [
             0.2,
             "#de77ae"
            ],
            [
             0.3,
             "#f1b6da"
            ],
            [
             0.4,
             "#fde0ef"
            ],
            [
             0.5,
             "#f7f7f7"
            ],
            [
             0.6,
             "#e6f5d0"
            ],
            [
             0.7,
             "#b8e186"
            ],
            [
             0.8,
             "#7fbc41"
            ],
            [
             0.9,
             "#4d9221"
            ],
            [
             1,
             "#276419"
            ]
           ],
           "sequential": [
            [
             0,
             "#0d0887"
            ],
            [
             0.1111111111111111,
             "#46039f"
            ],
            [
             0.2222222222222222,
             "#7201a8"
            ],
            [
             0.3333333333333333,
             "#9c179e"
            ],
            [
             0.4444444444444444,
             "#bd3786"
            ],
            [
             0.5555555555555556,
             "#d8576b"
            ],
            [
             0.6666666666666666,
             "#ed7953"
            ],
            [
             0.7777777777777778,
             "#fb9f3a"
            ],
            [
             0.8888888888888888,
             "#fdca26"
            ],
            [
             1,
             "#f0f921"
            ]
           ],
           "sequentialminus": [
            [
             0,
             "#0d0887"
            ],
            [
             0.1111111111111111,
             "#46039f"
            ],
            [
             0.2222222222222222,
             "#7201a8"
            ],
            [
             0.3333333333333333,
             "#9c179e"
            ],
            [
             0.4444444444444444,
             "#bd3786"
            ],
            [
             0.5555555555555556,
             "#d8576b"
            ],
            [
             0.6666666666666666,
             "#ed7953"
            ],
            [
             0.7777777777777778,
             "#fb9f3a"
            ],
            [
             0.8888888888888888,
             "#fdca26"
            ],
            [
             1,
             "#f0f921"
            ]
           ]
          },
          "colorway": [
           "#636efa",
           "#EF553B",
           "#00cc96",
           "#ab63fa",
           "#FFA15A",
           "#19d3f3",
           "#FF6692",
           "#B6E880",
           "#FF97FF",
           "#FECB52"
          ],
          "font": {
           "color": "#2a3f5f"
          },
          "geo": {
           "bgcolor": "white",
           "lakecolor": "white",
           "landcolor": "#E5ECF6",
           "showlakes": true,
           "showland": true,
           "subunitcolor": "white"
          },
          "hoverlabel": {
           "align": "left"
          },
          "hovermode": "closest",
          "mapbox": {
           "style": "light"
          },
          "paper_bgcolor": "white",
          "plot_bgcolor": "#E5ECF6",
          "polar": {
           "angularaxis": {
            "gridcolor": "white",
            "linecolor": "white",
            "ticks": ""
           },
           "bgcolor": "#E5ECF6",
           "radialaxis": {
            "gridcolor": "white",
            "linecolor": "white",
            "ticks": ""
           }
          },
          "scene": {
           "xaxis": {
            "backgroundcolor": "#E5ECF6",
            "gridcolor": "white",
            "gridwidth": 2,
            "linecolor": "white",
            "showbackground": true,
            "ticks": "",
            "zerolinecolor": "white"
           },
           "yaxis": {
            "backgroundcolor": "#E5ECF6",
            "gridcolor": "white",
            "gridwidth": 2,
            "linecolor": "white",
            "showbackground": true,
            "ticks": "",
            "zerolinecolor": "white"
           },
           "zaxis": {
            "backgroundcolor": "#E5ECF6",
            "gridcolor": "white",
            "gridwidth": 2,
            "linecolor": "white",
            "showbackground": true,
            "ticks": "",
            "zerolinecolor": "white"
           }
          },
          "shapedefaults": {
           "line": {
            "color": "#2a3f5f"
           }
          },
          "ternary": {
           "aaxis": {
            "gridcolor": "white",
            "linecolor": "white",
            "ticks": ""
           },
           "baxis": {
            "gridcolor": "white",
            "linecolor": "white",
            "ticks": ""
           },
           "bgcolor": "#E5ECF6",
           "caxis": {
            "gridcolor": "white",
            "linecolor": "white",
            "ticks": ""
           }
          },
          "title": {
           "x": 0.05
          },
          "xaxis": {
           "automargin": true,
           "gridcolor": "white",
           "linecolor": "white",
           "ticks": "",
           "title": {
            "standoff": 15
           },
           "zerolinecolor": "white",
           "zerolinewidth": 2
          },
          "yaxis": {
           "automargin": true,
           "gridcolor": "white",
           "linecolor": "white",
           "ticks": "",
           "title": {
            "standoff": 15
           },
           "zerolinecolor": "white",
           "zerolinewidth": 2
          }
         }
        },
        "xaxis": {
         "anchor": "y",
         "autorange": true,
         "domain": [
          0,
          1
         ],
         "range": [
          -0.5,
          0.5
         ],
         "type": "category"
        },
        "yaxis": {
         "anchor": "x",
         "autorange": true,
         "domain": [
          0,
          1
         ],
         "range": [
          -716.6666666666667,
          31616.666666666668
         ],
         "title": {
          "text": "rent"
         },
         "type": "linear"
        }
       }
      },
      "image/png": "[encoded data removed]",
      "text/html": [
       "<div>                            <div id=\"2805bf11-2874-47ce-976d-018f44289692\" class=\"plotly-graph-div\" style=\"height:525px; width:100%;\"></div>            <script type=\"text/javascript\">                require([\"plotly\"], function(Plotly) {                    window.PLOTLYENV=window.PLOTLYENV || {};                                    if (document.getElementById(\"2805bf11-2874-47ce-976d-018f44289692\")) {                    Plotly.newPlot(                        \"2805bf11-2874-47ce-976d-018f44289692\",                        [{\"alignmentgroup\":\"True\",\"hovertemplate\":\"rent=%{y}<extra></extra>\",\"legendgroup\":\"\",\"marker\":{\"color\":\"#636efa\"},\"name\":\"\",\"notched\":false,\"offsetgroup\":\"\",\"orientation\":\"v\",\"showlegend\":false,\"x0\":\" \",\"xaxis\":\"x\",\"y\":[5500.0,13600.0,3683.333333,3650.0,28300.0,18000.0,16000.0,2100.0,1800.0,12000.0,2850.0,1000.0,2995.0,3267.0,29200.0,2850.0,3495.0,3000.0,1695.0,3100.0,2200.0,4000.0,2200.0,3000.0,2400.0,1450.0,6000.0,3100.0,2870.0,1600.0,3750.0,2600.0,4000.0,2400.0,2499.0,3500.0,1534.0,3375.0,2800.0,2300.0,2500.0,2500.0,2500.0,1995.0,1600.0,2950.0,1421.0,5500.0,3200.0,10000.0,2500.0,5000.0,1126.666667,5000.0,1875.0,2400.0,1535.0,4050.0,1740.0,1658.0,3000.0,1700.0,2800.0,10000.0,4800.0,2950.0,2280.0,4500.0,2000.0,3200.0,1450.0,2450.0,8000.0,2550.0,2000.0,2950.0,1400.0,1350.0,2500.0,2200.0,2100.0,2150.0,2100.0,3450.0,8000.0,2700.0,6500.0,2500.0,2856.0,2100.0,2337.0,2900.0,2650.0,2074.0,1000.0,1700.0,2400.0,2550.0,2500.0,1150.0,2200.0,6000.0,3250.0,1500.0,2200.0,1500.0,1750.0,5400.0,1800.0,5400.0,1300.0,1540.0,1800.0,1100.0,2300.0,2200.0,1400.0,1758.0,1165.0,2144.0,2652.0,1950.0,2002.0,2100.0,1950.0,2305.0,2300.0,1350.0,2200.0,1800.0,1900.0,2200.0,2600.0,1800.0,2346.0,1150.0,1819.0,2346.0,2188.0,1936.0,2300.0,2495.0,1516.666667,3000.0,2000.0,2200.0,2980.0,1632.0,4246.666667,1900.0,1950.0,1600.0,2790.0,1781.0,2600.0,1780.0,2500.0,3300.0,2600.0,2378.0,3000.0,2030.0,1845.0,1650.0,2500.0,3500.0,2080.0,2744.0,2600.0,3488.0,1900.0,2300.0,3420.0,2800.0,3800.0,2454.0,1775.0,3050.0,2646.0,2600.0,3500.0,7500.0,2157.0,2500.0,2400.0,2600.0,1500.0,3500.0,2955.0,2500.0,2500.0,2700.0,2400.0,2500.0,2890.0,4000.0,2836.0,2300.0,6500.0,2600.0,2500.0,1900.0,3400.0,2950.0,12240.0,2395.0,12600.0,7000.0,2400.0,3500.0,2245.0,2245.0,4500.0,4250.0,4250.0,5000.0,2409.0,2350.0,4500.0,4250.0,1650.0,2450.0,2550.0,3450.0,4000.0,3577.0,2900.0,5000.0,2160.0,3270.0,3000.0,3800.0,2650.0,2426.0,2500.0,3950.0,1800.0,1800.0,2500.0,2200.0,2750.0,1200.0,3000.0,2499.0,2300.0,1406.0,3000.0,2340.0,1511.0,1250.0,1634.0,3900.0,2250.0,1780.0,2629.0,2100.0,2500.0,2850.0,2350.0,1950.0,2800.0,1899.0,2750.0,2650.0,1650.0,1700.0,1450.0,3750.0,1276.0,2300.0,2200.0,5000.0,2700.0,2196.0,2250.0,2400.0,2200.0,3000.0,1930.0,4500.0,2642.0,3500.0,5350.0,3750.0,1350.0,2700.0,3264.0,3100.0,2487.0,1535.0,5500.0,2700.0,3270.0,1739.0,2000.0,1000.0,3300.0,3255.0,5500.0,1400.0,5600.0,3500.0,2036.0,3300.0,1895.0,900.0,2200.0,2700.0,1800.0,2100.0,1895.0,3700.0,1200.0,2900.0,3200.0,1652.0,6000.0,2700.0,3430.0,2400.0,3033.333333,2000.0,3500.0,2484.0,1900.0,2979.0,1400.0,1350.0,2600.0,1495.0,2500.0,1800.0,3500.0,2200.0,1660.0,15000.0,1744.0,1300.0,1550.0,2343.0,2600.0,10550.0,3310.0,2670.0,12500.0,1750.0,2600.0,1200.0,3900.0,1975.0,20000.0,3105.0,1495.0,1500.0,3011.666667,2300.0,2000.0,2600.0,2383.333333,3185.0,4500.0,3500.0,3250.0,3500.0,4000.0,3445.0,2700.0,2950.0,3141.666667,3250.0,4000.0,3150.0,3250.0,2250.0,2250.0,2040.0,1100.0,1432.0,2350.0,1850.0,1554.0,1273.0,3300.0,1350.0,2295.0,10000.0,1295.0,2600.0,1495.0,1900.0,2150.0,1500.0,1500.0,1850.0,2000.0,1453.0,5000.0,1650.0,3000.0,1203.0,1461.0,1196.0,4500.0,2600.0,2800.0,1696.0,1456.0,2500.0,1850.0,3300.0,4500.0,2200.0,2950.0,4000.0,2500.0,2489.0,2700.0,2700.0,10000.0,2300.0,2965.0,3410.0,3162.0,2800.0,2500.0,2150.0,4200.0,950.0,10000.0,8000.0,4500.0,8500.0,2040.0,1948.0,2200.0,4500.0,2400.0,3500.0,4250.0,10500.0,2650.0,2182.0,1850.0,3374.0,2200.0,2710.0,3600.0,1750.0,2000.0,2200.0,7500.0,8500.0,2700.0,2100.0,2960.0,3050.0,1900.0,1776.0,7500.0,3500.0,2166.666667,4200.0,1900.0,1900.0,1562.0,8500.0,1302.0,1100.0,3500.0,2366.0,3500.0,1600.0,15000.0,1300.0,1950.0,1650.0,3650.0,2090.0,2450.0,3200.0,2200.0,7350.0,1600.0,2148.0,30000.0,1275.0,8750.0,1400.0,2300.0,1100.0,2250.0,1850.0,1300.0,1886.0,2900.0,2800.0,3650.0,2400.0,5190.0,2687.0,1300.0,1620.0,2300.0,6000.0,1482.0,3500.0,2395.0,3750.0,3000.0,3550.0,3450.0,3200.0,1240.0,2800.0,2050.0,4250.0,3750.0,1600.0,3300.0,2750.0,2385.0,1923.0,2500.0,1600.0,1500.0,2500.0,2400.0,1500.0,13500.0,1285.0,1600.0,2500.0,1300.0,1435.0,1814.0,1741.0,2693.0,1750.0,2350.0,1989.0,1825.0,1746.0,2400.0,2645.0,2500.0,1800.0,2400.0,1350.0,3000.0,2900.0,900.0,2800.0,2600.0,3000.0,5000.0,3950.0,2890.0,3200.0,1700.0,2600.0,2000.0,1500.0,1500.0,3500.0,1900.0,2495.0,5000.0,3500.0,5500.0,2700.0,1950.0,3000.0,2000.0,1148.333333,4000.0,3500.0,1550.0,2990.0,3500.0,2800.0,4500.0,1800.0,2407.0,1475.0,1235.0,1700.0,2200.0,1525.0,5620.0,2600.0,2000.0,3250.0,1750.0,1800.0,14000.0,2400.0,2700.0,2400.0,2600.0,2000.0,2350.0,3500.0,2500.0,2300.0,2600.0,2200.0,1150.0,1130.0,2250.0,1686.0,1953.0,1600.0,1350.0,1200.0,2448.0,3445.0,2200.0,2339.0,3300.0,2599.0,4000.0,2383.333333,2000.0,1375.0,2500.0,1350.0,1425.0,2600.0,2040.0,1900.0,3057.0,3000.0,3250.0,1970.0,4000.0,1663.0,2115.0,6500.0,1150.0,1150.0,2465.0,6500.0,2470.0,1800.0,1500.0,4000.0,7080.0,5950.0,3079.0,2629.0,6591.0,1754.0,2410.0,1815.0,1880.0,3000.0,2065.0,2250.0,3000.0,3000.0,1880.0,2300.0,1900.0,2365.0,2400.0,1875.0,1850.0,1300.0,2125.0,2175.0,2500.0,2650.0,1925.0,2900.0,1900.0,2675.0,6200.0,1950.0,1990.0,2050.0,2423.0,4200.0,2575.0,3100.0,3500.0,2450.0,2025.0,2708.0,2825.0,2300.0,3400.0,2000.0,2264.0,1650.0,1300.0,3200.0,3250.0,2440.0,2400.0,3796.0,3953.0,4000.0,1700.0,2500.0,2600.0,2600.0,4450.0,2300.0,2000.0,9100.0,1850.0,2308.0,3450.0,2600.0,1990.0,1550.0,1126.666667,2000.0,4000.0,2431.0,2400.0,1400.0,2500.0,2800.0,1875.0,1800.0,3000.0,1083.333333,2555.0,5350.0,2800.0,2715.0,3500.0,3780.0,4500.0,2350.0,1800.0,2750.0,2200.0,2295.0,3380.0,1256.666667,2100.0,3200.0,2850.0,4140.0,1750.0,4500.0,2400.0,2000.0,3400.0,5500.0,2000.0,3000.0,1857.0,2458.0,8000.0,1371.0,2500.0,1805.0,1550.0,1250.0,2300.0,2100.0,2170.0,1800.0,2448.0,1758.0,2336.0,2200.0,2077.0,1900.0,2300.0,1155.0,2588.0,4000.0,1400.0,2200.0,1726.0,3400.0,2100.0,2400.0,3700.0,1450.0,1630.0,2500.0,3800.0,3800.0,1535.0,1300.0,1800.0,2192.0,4000.0,2770.0,1250.0,2500.0,2838.0,950.0,1863.3333333333333,1048.0,2200.0,1500.0,3000.0,4280.0,1800.0,4080.0,2350.0],\"y0\":\" \",\"yaxis\":\"y\",\"type\":\"box\"}],                        {\"template\":{\"data\":{\"histogram2dcontour\":[{\"type\":\"histogram2dcontour\",\"colorbar\":{\"outlinewidth\":0,\"ticks\":\"\"},\"colorscale\":[[0.0,\"#0d0887\"],[0.1111111111111111,\"#46039f\"],[0.2222222222222222,\"#7201a8\"],[0.3333333333333333,\"#9c179e\"],[0.4444444444444444,\"#bd3786\"],[0.5555555555555556,\"#d8576b\"],[0.6666666666666666,\"#ed7953\"],[0.7777777777777778,\"#fb9f3a\"],[0.8888888888888888,\"#fdca26\"],[1.0,\"#f0f921\"]]}],\"choropleth\":[{\"type\":\"choropleth\",\"colorbar\":{\"outlinewidth\":0,\"ticks\":\"\"}}],\"histogram2d\":[{\"type\":\"histogram2d\",\"colorbar\":{\"outlinewidth\":0,\"ticks\":\"\"},\"colorscale\":[[0.0,\"#0d0887\"],[0.1111111111111111,\"#46039f\"],[0.2222222222222222,\"#7201a8\"],[0.3333333333333333,\"#9c179e\"],[0.4444444444444444,\"#bd3786\"],[0.5555555555555556,\"#d8576b\"],[0.6666666666666666,\"#ed7953\"],[0.7777777777777778,\"#fb9f3a\"],[0.8888888888888888,\"#fdca26\"],[1.0,\"#f0f921\"]]}],\"heatmap\":[{\"type\":\"heatmap\",\"colorbar\":{\"outlinewidth\":0,\"ticks\":\"\"},\"colorscale\":[[0.0,\"#0d0887\"],[0.1111111111111111,\"#46039f\"],[0.2222222222222222,\"#7201a8\"],[0.3333333333333333,\"#9c179e\"],[0.4444444444444444,\"#bd3786\"],[0.5555555555555556,\"#d8576b\"],[0.6666666666666666,\"#ed7953\"],[0.7777777777777778,\"#fb9f3a\"],[0.8888888888888888,\"#fdca26\"],[1.0,\"#f0f921\"]]}],\"heatmapgl\":[{\"type\":\"heatmapgl\",\"colorbar\":{\"outlinewidth\":0,\"ticks\":\"\"},\"colorscale\":[[0.0,\"#0d0887\"],[0.1111111111111111,\"#46039f\"],[0.2222222222222222,\"#7201a8\"],[0.3333333333333333,\"#9c179e\"],[0.4444444444444444,\"#bd3786\"],[0.5555555555555556,\"#d8576b\"],[0.6666666666666666,\"#ed7953\"],[0.7777777777777778,\"#fb9f3a\"],[0.8888888888888888,\"#fdca26\"],[1.0,\"#f0f921\"]]}],\"contourcarpet\":[{\"type\":\"contourcarpet\",\"colorbar\":{\"outlinewidth\":0,\"ticks\":\"\"}}],\"contour\":[{\"type\":\"contour\",\"colorbar\":{\"outlinewidth\":0,\"ticks\":\"\"},\"colorscale\":[[0.0,\"#0d0887\"],[0.1111111111111111,\"#46039f\"],[0.2222222222222222,\"#7201a8\"],[0.3333333333333333,\"#9c179e\"],[0.4444444444444444,\"#bd3786\"],[0.5555555555555556,\"#d8576b\"],[0.6666666666666666,\"#ed7953\"],[0.7777777777777778,\"#fb9f3a\"],[0.8888888888888888,\"#fdca26\"],[1.0,\"#f0f921\"]]}],\"surface\":[{\"type\":\"surface\",\"colorbar\":{\"outlinewidth\":0,\"ticks\":\"\"},\"colorscale\":[[0.0,\"#0d0887\"],[0.1111111111111111,\"#46039f\"],[0.2222222222222222,\"#7201a8\"],[0.3333333333333333,\"#9c179e\"],[0.4444444444444444,\"#bd3786\"],[0.5555555555555556,\"#d8576b\"],[0.6666666666666666,\"#ed7953\"],[0.7777777777777778,\"#fb9f3a\"],[0.8888888888888888,\"#fdca26\"],[1.0,\"#f0f921\"]]}],\"mesh3d\":[{\"type\":\"mesh3d\",\"colorbar\":{\"outlinewidth\":0,\"ticks\":\"\"}}],\"scatter\":[{\"fillpattern\":{\"fillmode\":\"overlay\",\"size\":10,\"solidity\":0.2},\"type\":\"scatter\"}],\"parcoords\":[{\"type\":\"parcoords\",\"line\":{\"colorbar\":{\"outlinewidth\":0,\"ticks\":\"\"}}}],\"scatterpolargl\":[{\"type\":\"scatterpolargl\",\"marker\":{\"colorbar\":{\"outlinewidth\":0,\"ticks\":\"\"}}}],\"bar\":[{\"error_x\":{\"color\":\"#2a3f5f\"},\"error_y\":{\"color\":\"#2a3f5f\"},\"marker\":{\"line\":{\"color\":\"#E5ECF6\",\"width\":0.5},\"pattern\":{\"fillmode\":\"overlay\",\"size\":10,\"solidity\":0.2}},\"type\":\"bar\"}],\"scattergeo\":[{\"type\":\"scattergeo\",\"marker\":{\"colorbar\":{\"outlinewidth\":0,\"ticks\":\"\"}}}],\"scatterpolar\":[{\"type\":\"scatterpolar\",\"marker\":{\"colorbar\":{\"outlinewidth\":0,\"ticks\":\"\"}}}],\"histogram\":[{\"marker\":{\"pattern\":{\"fillmode\":\"overlay\",\"size\":10,\"solidity\":0.2}},\"type\":\"histogram\"}],\"scattergl\":[{\"type\":\"scattergl\",\"marker\":{\"colorbar\":{\"outlinewidth\":0,\"ticks\":\"\"}}}],\"scatter3d\":[{\"type\":\"scatter3d\",\"line\":{\"colorbar\":{\"outlinewidth\":0,\"ticks\":\"\"}},\"marker\":{\"colorbar\":{\"outlinewidth\":0,\"ticks\":\"\"}}}],\"scattermapbox\":[{\"type\":\"scattermapbox\",\"marker\":{\"colorbar\":{\"outlinewidth\":0,\"ticks\":\"\"}}}],\"scatterternary\":[{\"type\":\"scatterternary\",\"marker\":{\"colorbar\":{\"outlinewidth\":0,\"ticks\":\"\"}}}],\"scattercarpet\":[{\"type\":\"scattercarpet\",\"marker\":{\"colorbar\":{\"outlinewidth\":0,\"ticks\":\"\"}}}],\"carpet\":[{\"aaxis\":{\"endlinecolor\":\"#2a3f5f\",\"gridcolor\":\"white\",\"linecolor\":\"white\",\"minorgridcolor\":\"white\",\"startlinecolor\":\"#2a3f5f\"},\"baxis\":{\"endlinecolor\":\"#2a3f5f\",\"gridcolor\":\"white\",\"linecolor\":\"white\",\"minorgridcolor\":\"white\",\"startlinecolor\":\"#2a3f5f\"},\"type\":\"carpet\"}],\"table\":[{\"cells\":{\"fill\":{\"color\":\"#EBF0F8\"},\"line\":{\"color\":\"white\"}},\"header\":{\"fill\":{\"color\":\"#C8D4E3\"},\"line\":{\"color\":\"white\"}},\"type\":\"table\"}],\"barpolar\":[{\"marker\":{\"line\":{\"color\":\"#E5ECF6\",\"width\":0.5},\"pattern\":{\"fillmode\":\"overlay\",\"size\":10,\"solidity\":0.2}},\"type\":\"barpolar\"}],\"pie\":[{\"automargin\":true,\"type\":\"pie\"}]},\"layout\":{\"autotypenumbers\":\"strict\",\"colorway\":[\"#636efa\",\"#EF553B\",\"#00cc96\",\"#ab63fa\",\"#FFA15A\",\"#19d3f3\",\"#FF6692\",\"#B6E880\",\"#FF97FF\",\"#FECB52\"],\"font\":{\"color\":\"#2a3f5f\"},\"hovermode\":\"closest\",\"hoverlabel\":{\"align\":\"left\"},\"paper_bgcolor\":\"white\",\"plot_bgcolor\":\"#E5ECF6\",\"polar\":{\"bgcolor\":\"#E5ECF6\",\"angularaxis\":{\"gridcolor\":\"white\",\"linecolor\":\"white\",\"ticks\":\"\"},\"radialaxis\":{\"gridcolor\":\"white\",\"linecolor\":\"white\",\"ticks\":\"\"}},\"ternary\":{\"bgcolor\":\"#E5ECF6\",\"aaxis\":{\"gridcolor\":\"white\",\"linecolor\":\"white\",\"ticks\":\"\"},\"baxis\":{\"gridcolor\":\"white\",\"linecolor\":\"white\",\"ticks\":\"\"},\"caxis\":{\"gridcolor\":\"white\",\"linecolor\":\"white\",\"ticks\":\"\"}},\"coloraxis\":{\"colorbar\":{\"outlinewidth\":0,\"ticks\":\"\"}},\"colorscale\":{\"sequential\":[[0.0,\"#0d0887\"],[0.1111111111111111,\"#46039f\"],[0.2222222222222222,\"#7201a8\"],[0.3333333333333333,\"#9c179e\"],[0.4444444444444444,\"#bd3786\"],[0.5555555555555556,\"#d8576b\"],[0.6666666666666666,\"#ed7953\"],[0.7777777777777778,\"#fb9f3a\"],[0.8888888888888888,\"#fdca26\"],[1.0,\"#f0f921\"]],\"sequentialminus\":[[0.0,\"#0d0887\"],[0.1111111111111111,\"#46039f\"],[0.2222222222222222,\"#7201a8\"],[0.3333333333333333,\"#9c179e\"],[0.4444444444444444,\"#bd3786\"],[0.5555555555555556,\"#d8576b\"],[0.6666666666666666,\"#ed7953\"],[0.7777777777777778,\"#fb9f3a\"],[0.8888888888888888,\"#fdca26\"],[1.0,\"#f0f921\"]],\"diverging\":[[0,\"#8e0152\"],[0.1,\"#c51b7d\"],[0.2,\"#de77ae\"],[0.3,\"#f1b6da\"],[0.4,\"#fde0ef\"],[0.5,\"#f7f7f7\"],[0.6,\"#e6f5d0\"],[0.7,\"#b8e186\"],[0.8,\"#7fbc41\"],[0.9,\"#4d9221\"],[1,\"#276419\"]]},\"xaxis\":{\"gridcolor\":\"white\",\"linecolor\":\"white\",\"ticks\":\"\",\"title\":{\"standoff\":15},\"zerolinecolor\":\"white\",\"automargin\":true,\"zerolinewidth\":2},\"yaxis\":{\"gridcolor\":\"white\",\"linecolor\":\"white\",\"ticks\":\"\",\"title\":{\"standoff\":15},\"zerolinecolor\":\"white\",\"automargin\":true,\"zerolinewidth\":2},\"scene\":{\"xaxis\":{\"backgroundcolor\":\"#E5ECF6\",\"gridcolor\":\"white\",\"linecolor\":\"white\",\"showbackground\":true,\"ticks\":\"\",\"zerolinecolor\":\"white\",\"gridwidth\":2},\"yaxis\":{\"backgroundcolor\":\"#E5ECF6\",\"gridcolor\":\"white\",\"linecolor\":\"white\",\"showbackground\":true,\"ticks\":\"\",\"zerolinecolor\":\"white\",\"gridwidth\":2},\"zaxis\":{\"backgroundcolor\":\"#E5ECF6\",\"gridcolor\":\"white\",\"linecolor\":\"white\",\"showbackground\":true,\"ticks\":\"\",\"zerolinecolor\":\"white\",\"gridwidth\":2}},\"shapedefaults\":{\"line\":{\"color\":\"#2a3f5f\"}},\"annotationdefaults\":{\"arrowcolor\":\"#2a3f5f\",\"arrowhead\":0,\"arrowwidth\":1},\"geo\":{\"bgcolor\":\"white\",\"landcolor\":\"#E5ECF6\",\"subunitcolor\":\"white\",\"showland\":true,\"showlakes\":true,\"lakecolor\":\"white\"},\"title\":{\"x\":0.05},\"mapbox\":{\"style\":\"light\"}}},\"xaxis\":{\"anchor\":\"y\",\"domain\":[0.0,1.0]},\"yaxis\":{\"anchor\":\"x\",\"domain\":[0.0,1.0],\"title\":{\"text\":\"rent\"}},\"legend\":{\"tracegroupgap\":0},\"margin\":{\"t\":60},\"boxmode\":\"group\"},                        {\"responsive\": true}                    ).then(function(){\n",
       "                            \n",
       "var gd = document.getElementById('2805bf11-2874-47ce-976d-018f44289692');\n",
       "var x = new MutationObserver(function (mutations, observer) {{\n",
       "        var display = window.getComputedStyle(gd).display;\n",
       "        if (!display || display === 'none') {{\n",
       "            console.log([gd, 'removed!']);\n",
       "            Plotly.purge(gd);\n",
       "            observer.disconnect();\n",
       "        }}\n",
       "}});\n",
       "\n",
       "// Listen for the removal of the full notebook cells\n",
       "var notebookContainer = gd.closest('#notebook-container');\n",
       "if (notebookContainer) {{\n",
       "    x.observe(notebookContainer, {childList: true});\n",
       "}}\n",
       "\n",
       "// Listen for the clearing of the current output cell\n",
       "var outputEl = gd.closest('.output');\n",
       "if (outputEl) {{\n",
       "    x.observe(outputEl, {childList: true});\n",
       "}}\n",
       "\n",
       "                        })                };                });            </script>        </div>"
      ]
     },
     "metadata": {},
     "output_type": "display_data"
    }
   ],
   "source": [
    "fig = px.box(df, y='rent')\n",
    "\n",
    "fig.show()"
   ]
  },
  {
   "cell_type": "code",
   "execution_count": 442,
   "id": "4fddcb98-d617-459c-b029-c81884b705be",
   "metadata": {
    "jupyter": {
     "source_hidden": true
    },
    "tags": []
   },
   "outputs": [
    {
     "data": {
      "application/vnd.plotly.v1+json": {
       "config": {
        "plotlyServerURL": "https://plot.ly"
       },
       "data": [
        {
         "alignmentgroup": "True",
         "hovertemplate": "rent=%{y}<extra></extra>",
         "legendgroup": "",
         "marker": {
          "color": "#636efa"
         },
         "name": "",
         "notched": false,
         "offsetgroup": "",
         "orientation": "v",
         "showlegend": false,
         "type": "box",
         "x0": " ",
         "xaxis": "x",
         "y": [
          5500,
          13600,
          3683.333333,
          3650,
          28300,
          18000,
          16000,
          2100,
          1800,
          12000,
          2850,
          1000,
          2995,
          3267,
          29200,
          2850,
          3495,
          3000,
          1695,
          3100,
          2200,
          4000,
          2200,
          3000,
          2400,
          1450,
          6000,
          3100,
          2870,
          1600,
          3750,
          2600,
          4000,
          2400,
          2499,
          3500,
          1534,
          3375,
          2800,
          2300,
          2500,
          2500,
          2500,
          1995,
          1600,
          2950,
          1421,
          5500,
          3200,
          10000,
          2500,
          5000,
          1126.666667,
          5000,
          1875,
          2400,
          1535,
          4050,
          1740,
          1658,
          3000,
          1700,
          2800,
          10000,
          4800,
          2950,
          2280,
          4500,
          2000,
          3200,
          1450,
          2450,
          8000,
          2550,
          2000,
          2950,
          1400,
          1350,
          2500,
          2200,
          2100,
          2150,
          2100,
          3450,
          8000,
          2700,
          6500,
          2500,
          2856,
          2100,
          2337,
          2900,
          2650,
          2074,
          1000,
          1700,
          2400,
          2550,
          2500,
          1150,
          2200,
          6000,
          3250,
          1500,
          2200,
          1500,
          1750,
          5400,
          1800,
          5400,
          1300,
          1540,
          1800,
          1100,
          2300,
          2200,
          1400,
          1758,
          1165,
          2144,
          2652,
          1950,
          2002,
          2100,
          1950,
          2305,
          2300,
          1350,
          2200,
          1800,
          1900,
          2200,
          2600,
          1800,
          2346,
          1150,
          1819,
          2346,
          2188,
          1936,
          2300,
          2495,
          1516.666667,
          3000,
          2000,
          2200,
          2980,
          1632,
          4246.666667,
          1900,
          1950,
          1600,
          2790,
          1781,
          2600,
          1780,
          2500,
          3300,
          2600,
          2378,
          3000,
          2030,
          1845,
          1650,
          2500,
          3500,
          2080,
          2744,
          2600,
          3488,
          1900,
          2300,
          3420,
          2800,
          3800,
          2454,
          1775,
          3050,
          2646,
          2600,
          3500,
          7500,
          2157,
          2500,
          2400,
          2600,
          1500,
          3500,
          2955,
          2500,
          2500,
          2700,
          2400,
          2500,
          2890,
          4000,
          2836,
          2300,
          6500,
          2600,
          2500,
          1900,
          3400,
          2950,
          12240,
          2395,
          12600,
          7000,
          2400,
          3500,
          2245,
          2245,
          4500,
          4250,
          4250,
          5000,
          2409,
          2350,
          4500,
          4250,
          1650,
          2450,
          2550,
          3450,
          4000,
          3577,
          2900,
          5000,
          2160,
          3270,
          3000,
          3800,
          2650,
          2426,
          2500,
          3950,
          1800,
          1800,
          2500,
          2200,
          2750,
          1200,
          3000,
          2499,
          2300,
          1406,
          3000,
          2340,
          1511,
          1250,
          1634,
          3900,
          2250,
          1780,
          2629,
          2100,
          2500,
          2850,
          2350,
          1950,
          2800,
          1899,
          2750,
          2650,
          1650,
          1700,
          1450,
          3750,
          1276,
          2300,
          2200,
          5000,
          2700,
          2196,
          2250,
          2400,
          2200,
          3000,
          1930,
          4500,
          2642,
          3500,
          5350,
          3750,
          1350,
          2700,
          3264,
          3100,
          2487,
          1535,
          5500,
          2700,
          3270,
          1739,
          2000,
          1000,
          3300,
          3255,
          5500,
          1400,
          5600,
          3500,
          2036,
          3300,
          1895,
          900,
          2200,
          2700,
          1800,
          2100,
          1895,
          3700,
          1200,
          2900,
          3200,
          1652,
          6000,
          2700,
          3430,
          2400,
          3033.333333,
          2000,
          3500,
          2484,
          1900,
          2979,
          1400,
          1350,
          2600,
          1495,
          2500,
          1800,
          3500,
          2200,
          1660,
          15000,
          1744,
          1300,
          1550,
          2343,
          2600,
          10550,
          3310,
          2670,
          12500,
          1750,
          2600,
          1200,
          3900,
          1975,
          20000,
          3105,
          1495,
          1500,
          3011.666667,
          2300,
          2000,
          2600,
          2383.333333,
          3185,
          4500,
          3500,
          3250,
          3500,
          4000,
          3445,
          2700,
          2950,
          3141.666667,
          3250,
          4000,
          3150,
          3250,
          2250,
          2250,
          2040,
          1100,
          1432,
          2350,
          1850,
          1554,
          1273,
          3300,
          1350,
          2295,
          10000,
          1295,
          2600,
          1495,
          1900,
          2150,
          1500,
          1500,
          1850,
          2000,
          1453,
          5000,
          1650,
          3000,
          1203,
          1461,
          1196,
          4500,
          2600,
          2800,
          1696,
          1456,
          2500,
          1850,
          3300,
          4500,
          2200,
          2950,
          4000,
          2500,
          2489,
          2700,
          2700,
          10000,
          2300,
          2965,
          3410,
          3162,
          2800,
          2500,
          2150,
          4200,
          950,
          10000,
          8000,
          4500,
          8500,
          2040,
          1948,
          2200,
          4500,
          2400,
          3500,
          4250,
          10500,
          2650,
          2182,
          1850,
          3374,
          2200,
          2710,
          3600,
          1750,
          2000,
          2200,
          7500,
          8500,
          2700,
          2100,
          2960,
          3050,
          1900,
          1776,
          7500,
          3500,
          2166.666667,
          4200,
          1900,
          1900,
          1562,
          8500,
          1302,
          1100,
          3500,
          2366,
          3500,
          1600,
          15000,
          1300,
          1950,
          1650,
          3650,
          2090,
          2450,
          3200,
          2200,
          7350,
          1600,
          2148,
          30000,
          1275,
          8750,
          1400,
          2300,
          1100,
          2250,
          1850,
          1300,
          1886,
          2900,
          2800,
          3650,
          2400,
          5190,
          2687,
          1300,
          1620,
          2300,
          6000,
          1482,
          3500,
          2395,
          3750,
          3000,
          3550,
          3450,
          3200,
          1240,
          2800,
          2050,
          4250,
          3750,
          1600,
          3300,
          2750,
          2385,
          1923,
          2500,
          1600,
          1500,
          2500,
          2400,
          1500,
          13500,
          1285,
          1600,
          2500,
          1300,
          1435,
          1814,
          1741,
          2693,
          1750,
          2350,
          1989,
          1825,
          1746,
          2400,
          2645,
          2500,
          1800,
          2400,
          1350,
          3000,
          2900,
          900,
          2800,
          2600,
          3000,
          5000,
          3950,
          2890,
          3200,
          1700,
          2600,
          2000,
          1500,
          1500,
          3500,
          1900,
          2495,
          5000,
          3500,
          5500,
          2700,
          1950,
          3000,
          2000,
          1148.333333,
          4000,
          3500,
          1550,
          2990,
          3500,
          2800,
          4500,
          1800,
          2407,
          1475,
          1235,
          1700,
          2200,
          1525,
          5620,
          2600,
          2000,
          3250,
          1750,
          1800,
          14000,
          2400,
          2700,
          2400,
          2600,
          2000,
          2350,
          3500,
          2500,
          2300,
          2600,
          2200,
          1150,
          1130,
          2250,
          1686,
          1953,
          1600,
          1350,
          1200,
          2448,
          3445,
          2200,
          2339,
          3300,
          2599,
          4000,
          2383.333333,
          2000,
          1375,
          2500,
          1350,
          1425,
          2600,
          2040,
          1900,
          3057,
          3000,
          3250,
          1970,
          4000,
          1663,
          2115,
          6500,
          1150,
          1150,
          2465,
          6500,
          2470,
          1800,
          1500,
          4000,
          7080,
          5950,
          3079,
          2629,
          6591,
          1754,
          2410,
          1815,
          1880,
          3000,
          2065,
          2250,
          3000,
          3000,
          1880,
          2300,
          1900,
          2365,
          2400,
          1875,
          1850,
          1300,
          2125,
          2175,
          2500,
          2650,
          1925,
          2900,
          1900,
          2675,
          6200,
          1950,
          1990,
          2050,
          2423,
          4200,
          2575,
          3100,
          3500,
          2450,
          2025,
          2708,
          2825,
          2300,
          3400,
          2000,
          2264,
          1650,
          1300,
          3200,
          3250,
          2440,
          2400,
          3796,
          3953,
          4000,
          1700,
          2500,
          2600,
          2600,
          4450,
          2300,
          2000,
          9100,
          1850,
          2308,
          3450,
          2600,
          1990,
          1550,
          1126.666667,
          2000,
          4000,
          2431,
          2400,
          1400,
          2500,
          2800,
          1875,
          1800,
          3000,
          1083.333333,
          2555,
          5350,
          2800,
          2715,
          3500,
          3780,
          4500,
          2350,
          1800,
          2750,
          2200,
          2295,
          3380,
          1256.666667,
          2100,
          3200,
          2850,
          4140,
          1750,
          4500,
          2400,
          2000,
          3400,
          5500,
          2000,
          3000,
          1857,
          2458,
          8000,
          1371,
          2500,
          1805,
          1550,
          1250,
          2300,
          2100,
          2170,
          1800,
          2448,
          1758,
          2336,
          2200,
          2077,
          1900,
          2300,
          1155,
          2588,
          4000,
          1400,
          2200,
          1726,
          3400,
          2100,
          2400,
          3700,
          1450,
          1630,
          2500,
          3800,
          3800,
          1535,
          1300,
          1800,
          2192,
          4000,
          2770,
          1250,
          2500,
          2838,
          950,
          1863.3333333333333,
          1048,
          2200,
          1500,
          3000,
          4280,
          1800,
          4080,
          2350
         ],
         "y0": " ",
         "yaxis": "y"
        }
       ],
       "layout": {
        "autosize": true,
        "boxmode": "group",
        "legend": {
         "tracegroupgap": 0
        },
        "margin": {
         "t": 60
        },
        "template": {
         "data": {
          "bar": [
           {
            "error_x": {
             "color": "#2a3f5f"
            },
            "error_y": {
             "color": "#2a3f5f"
            },
            "marker": {
             "line": {
              "color": "#E5ECF6",
              "width": 0.5
             },
             "pattern": {
              "fillmode": "overlay",
              "size": 10,
              "solidity": 0.2
             }
            },
            "type": "bar"
           }
          ],
          "barpolar": [
           {
            "marker": {
             "line": {
              "color": "#E5ECF6",
              "width": 0.5
             },
             "pattern": {
              "fillmode": "overlay",
              "size": 10,
              "solidity": 0.2
             }
            },
            "type": "barpolar"
           }
          ],
          "carpet": [
           {
            "aaxis": {
             "endlinecolor": "#2a3f5f",
             "gridcolor": "white",
             "linecolor": "white",
             "minorgridcolor": "white",
             "startlinecolor": "#2a3f5f"
            },
            "baxis": {
             "endlinecolor": "#2a3f5f",
             "gridcolor": "white",
             "linecolor": "white",
             "minorgridcolor": "white",
             "startlinecolor": "#2a3f5f"
            },
            "type": "carpet"
           }
          ],
          "choropleth": [
           {
            "colorbar": {
             "outlinewidth": 0,
             "ticks": ""
            },
            "type": "choropleth"
           }
          ],
          "contour": [
           {
            "colorbar": {
             "outlinewidth": 0,
             "ticks": ""
            },
            "colorscale": [
             [
              0,
              "#0d0887"
             ],
             [
              0.1111111111111111,
              "#46039f"
             ],
             [
              0.2222222222222222,
              "#7201a8"
             ],
             [
              0.3333333333333333,
              "#9c179e"
             ],
             [
              0.4444444444444444,
              "#bd3786"
             ],
             [
              0.5555555555555556,
              "#d8576b"
             ],
             [
              0.6666666666666666,
              "#ed7953"
             ],
             [
              0.7777777777777778,
              "#fb9f3a"
             ],
             [
              0.8888888888888888,
              "#fdca26"
             ],
             [
              1,
              "#f0f921"
             ]
            ],
            "type": "contour"
           }
          ],
          "contourcarpet": [
           {
            "colorbar": {
             "outlinewidth": 0,
             "ticks": ""
            },
            "type": "contourcarpet"
           }
          ],
          "heatmap": [
           {
            "colorbar": {
             "outlinewidth": 0,
             "ticks": ""
            },
            "colorscale": [
             [
              0,
              "#0d0887"
             ],
             [
              0.1111111111111111,
              "#46039f"
             ],
             [
              0.2222222222222222,
              "#7201a8"
             ],
             [
              0.3333333333333333,
              "#9c179e"
             ],
             [
              0.4444444444444444,
              "#bd3786"
             ],
             [
              0.5555555555555556,
              "#d8576b"
             ],
             [
              0.6666666666666666,
              "#ed7953"
             ],
             [
              0.7777777777777778,
              "#fb9f3a"
             ],
             [
              0.8888888888888888,
              "#fdca26"
             ],
             [
              1,
              "#f0f921"
             ]
            ],
            "type": "heatmap"
           }
          ],
          "heatmapgl": [
           {
            "colorbar": {
             "outlinewidth": 0,
             "ticks": ""
            },
            "colorscale": [
             [
              0,
              "#0d0887"
             ],
             [
              0.1111111111111111,
              "#46039f"
             ],
             [
              0.2222222222222222,
              "#7201a8"
             ],
             [
              0.3333333333333333,
              "#9c179e"
             ],
             [
              0.4444444444444444,
              "#bd3786"
             ],
             [
              0.5555555555555556,
              "#d8576b"
             ],
             [
              0.6666666666666666,
              "#ed7953"
             ],
             [
              0.7777777777777778,
              "#fb9f3a"
             ],
             [
              0.8888888888888888,
              "#fdca26"
             ],
             [
              1,
              "#f0f921"
             ]
            ],
            "type": "heatmapgl"
           }
          ],
          "histogram": [
           {
            "marker": {
             "pattern": {
              "fillmode": "overlay",
              "size": 10,
              "solidity": 0.2
             }
            },
            "type": "histogram"
           }
          ],
          "histogram2d": [
           {
            "colorbar": {
             "outlinewidth": 0,
             "ticks": ""
            },
            "colorscale": [
             [
              0,
              "#0d0887"
             ],
             [
              0.1111111111111111,
              "#46039f"
             ],
             [
              0.2222222222222222,
              "#7201a8"
             ],
             [
              0.3333333333333333,
              "#9c179e"
             ],
             [
              0.4444444444444444,
              "#bd3786"
             ],
             [
              0.5555555555555556,
              "#d8576b"
             ],
             [
              0.6666666666666666,
              "#ed7953"
             ],
             [
              0.7777777777777778,
              "#fb9f3a"
             ],
             [
              0.8888888888888888,
              "#fdca26"
             ],
             [
              1,
              "#f0f921"
             ]
            ],
            "type": "histogram2d"
           }
          ],
          "histogram2dcontour": [
           {
            "colorbar": {
             "outlinewidth": 0,
             "ticks": ""
            },
            "colorscale": [
             [
              0,
              "#0d0887"
             ],
             [
              0.1111111111111111,
              "#46039f"
             ],
             [
              0.2222222222222222,
              "#7201a8"
             ],
             [
              0.3333333333333333,
              "#9c179e"
             ],
             [
              0.4444444444444444,
              "#bd3786"
             ],
             [
              0.5555555555555556,
              "#d8576b"
             ],
             [
              0.6666666666666666,
              "#ed7953"
             ],
             [
              0.7777777777777778,
              "#fb9f3a"
             ],
             [
              0.8888888888888888,
              "#fdca26"
             ],
             [
              1,
              "#f0f921"
             ]
            ],
            "type": "histogram2dcontour"
           }
          ],
          "mesh3d": [
           {
            "colorbar": {
             "outlinewidth": 0,
             "ticks": ""
            },
            "type": "mesh3d"
           }
          ],
          "parcoords": [
           {
            "line": {
             "colorbar": {
              "outlinewidth": 0,
              "ticks": ""
             }
            },
            "type": "parcoords"
           }
          ],
          "pie": [
           {
            "automargin": true,
            "type": "pie"
           }
          ],
          "scatter": [
           {
            "fillpattern": {
             "fillmode": "overlay",
             "size": 10,
             "solidity": 0.2
            },
            "type": "scatter"
           }
          ],
          "scatter3d": [
           {
            "line": {
             "colorbar": {
              "outlinewidth": 0,
              "ticks": ""
             }
            },
            "marker": {
             "colorbar": {
              "outlinewidth": 0,
              "ticks": ""
             }
            },
            "type": "scatter3d"
           }
          ],
          "scattercarpet": [
           {
            "marker": {
             "colorbar": {
              "outlinewidth": 0,
              "ticks": ""
             }
            },
            "type": "scattercarpet"
           }
          ],
          "scattergeo": [
           {
            "marker": {
             "colorbar": {
              "outlinewidth": 0,
              "ticks": ""
             }
            },
            "type": "scattergeo"
           }
          ],
          "scattergl": [
           {
            "marker": {
             "colorbar": {
              "outlinewidth": 0,
              "ticks": ""
             }
            },
            "type": "scattergl"
           }
          ],
          "scattermapbox": [
           {
            "marker": {
             "colorbar": {
              "outlinewidth": 0,
              "ticks": ""
             }
            },
            "type": "scattermapbox"
           }
          ],
          "scatterpolar": [
           {
            "marker": {
             "colorbar": {
              "outlinewidth": 0,
              "ticks": ""
             }
            },
            "type": "scatterpolar"
           }
          ],
          "scatterpolargl": [
           {
            "marker": {
             "colorbar": {
              "outlinewidth": 0,
              "ticks": ""
             }
            },
            "type": "scatterpolargl"
           }
          ],
          "scatterternary": [
           {
            "marker": {
             "colorbar": {
              "outlinewidth": 0,
              "ticks": ""
             }
            },
            "type": "scatterternary"
           }
          ],
          "surface": [
           {
            "colorbar": {
             "outlinewidth": 0,
             "ticks": ""
            },
            "colorscale": [
             [
              0,
              "#0d0887"
             ],
             [
              0.1111111111111111,
              "#46039f"
             ],
             [
              0.2222222222222222,
              "#7201a8"
             ],
             [
              0.3333333333333333,
              "#9c179e"
             ],
             [
              0.4444444444444444,
              "#bd3786"
             ],
             [
              0.5555555555555556,
              "#d8576b"
             ],
             [
              0.6666666666666666,
              "#ed7953"
             ],
             [
              0.7777777777777778,
              "#fb9f3a"
             ],
             [
              0.8888888888888888,
              "#fdca26"
             ],
             [
              1,
              "#f0f921"
             ]
            ],
            "type": "surface"
           }
          ],
          "table": [
           {
            "cells": {
             "fill": {
              "color": "#EBF0F8"
             },
             "line": {
              "color": "white"
             }
            },
            "header": {
             "fill": {
              "color": "#C8D4E3"
             },
             "line": {
              "color": "white"
             }
            },
            "type": "table"
           }
          ]
         },
         "layout": {
          "annotationdefaults": {
           "arrowcolor": "#2a3f5f",
           "arrowhead": 0,
           "arrowwidth": 1
          },
          "autotypenumbers": "strict",
          "coloraxis": {
           "colorbar": {
            "outlinewidth": 0,
            "ticks": ""
           }
          },
          "colorscale": {
           "diverging": [
            [
             0,
             "#8e0152"
            ],
            [
             0.1,
             "#c51b7d"
            ],
            [
             0.2,
             "#de77ae"
            ],
            [
             0.3,
             "#f1b6da"
            ],
            [
             0.4,
             "#fde0ef"
            ],
            [
             0.5,
             "#f7f7f7"
            ],
            [
             0.6,
             "#e6f5d0"
            ],
            [
             0.7,
             "#b8e186"
            ],
            [
             0.8,
             "#7fbc41"
            ],
            [
             0.9,
             "#4d9221"
            ],
            [
             1,
             "#276419"
            ]
           ],
           "sequential": [
            [
             0,
             "#0d0887"
            ],
            [
             0.1111111111111111,
             "#46039f"
            ],
            [
             0.2222222222222222,
             "#7201a8"
            ],
            [
             0.3333333333333333,
             "#9c179e"
            ],
            [
             0.4444444444444444,
             "#bd3786"
            ],
            [
             0.5555555555555556,
             "#d8576b"
            ],
            [
             0.6666666666666666,
             "#ed7953"
            ],
            [
             0.7777777777777778,
             "#fb9f3a"
            ],
            [
             0.8888888888888888,
             "#fdca26"
            ],
            [
             1,
             "#f0f921"
            ]
           ],
           "sequentialminus": [
            [
             0,
             "#0d0887"
            ],
            [
             0.1111111111111111,
             "#46039f"
            ],
            [
             0.2222222222222222,
             "#7201a8"
            ],
            [
             0.3333333333333333,
             "#9c179e"
            ],
            [
             0.4444444444444444,
             "#bd3786"
            ],
            [
             0.5555555555555556,
             "#d8576b"
            ],
            [
             0.6666666666666666,
             "#ed7953"
            ],
            [
             0.7777777777777778,
             "#fb9f3a"
            ],
            [
             0.8888888888888888,
             "#fdca26"
            ],
            [
             1,
             "#f0f921"
            ]
           ]
          },
          "colorway": [
           "#636efa",
           "#EF553B",
           "#00cc96",
           "#ab63fa",
           "#FFA15A",
           "#19d3f3",
           "#FF6692",
           "#B6E880",
           "#FF97FF",
           "#FECB52"
          ],
          "font": {
           "color": "#2a3f5f"
          },
          "geo": {
           "bgcolor": "white",
           "lakecolor": "white",
           "landcolor": "#E5ECF6",
           "showlakes": true,
           "showland": true,
           "subunitcolor": "white"
          },
          "hoverlabel": {
           "align": "left"
          },
          "hovermode": "closest",
          "mapbox": {
           "style": "light"
          },
          "paper_bgcolor": "white",
          "plot_bgcolor": "#E5ECF6",
          "polar": {
           "angularaxis": {
            "gridcolor": "white",
            "linecolor": "white",
            "ticks": ""
           },
           "bgcolor": "#E5ECF6",
           "radialaxis": {
            "gridcolor": "white",
            "linecolor": "white",
            "ticks": ""
           }
          },
          "scene": {
           "xaxis": {
            "backgroundcolor": "#E5ECF6",
            "gridcolor": "white",
            "gridwidth": 2,
            "linecolor": "white",
            "showbackground": true,
            "ticks": "",
            "zerolinecolor": "white"
           },
           "yaxis": {
            "backgroundcolor": "#E5ECF6",
            "gridcolor": "white",
            "gridwidth": 2,
            "linecolor": "white",
            "showbackground": true,
            "ticks": "",
            "zerolinecolor": "white"
           },
           "zaxis": {
            "backgroundcolor": "#E5ECF6",
            "gridcolor": "white",
            "gridwidth": 2,
            "linecolor": "white",
            "showbackground": true,
            "ticks": "",
            "zerolinecolor": "white"
           }
          },
          "shapedefaults": {
           "line": {
            "color": "#2a3f5f"
           }
          },
          "ternary": {
           "aaxis": {
            "gridcolor": "white",
            "linecolor": "white",
            "ticks": ""
           },
           "baxis": {
            "gridcolor": "white",
            "linecolor": "white",
            "ticks": ""
           },
           "bgcolor": "#E5ECF6",
           "caxis": {
            "gridcolor": "white",
            "linecolor": "white",
            "ticks": ""
           }
          },
          "title": {
           "x": 0.05
          },
          "xaxis": {
           "automargin": true,
           "gridcolor": "white",
           "linecolor": "white",
           "ticks": "",
           "title": {
            "standoff": 15
           },
           "zerolinecolor": "white",
           "zerolinewidth": 2
          },
          "yaxis": {
           "automargin": true,
           "gridcolor": "white",
           "linecolor": "white",
           "ticks": "",
           "title": {
            "standoff": 15
           },
           "zerolinecolor": "white",
           "zerolinewidth": 2
          }
         }
        },
        "xaxis": {
         "anchor": "y",
         "autorange": true,
         "domain": [
          0,
          1
         ],
         "range": [
          -0.5,
          0.5
         ],
         "type": "category"
        },
        "yaxis": {
         "anchor": "x",
         "autorange": true,
         "domain": [
          0,
          1
         ],
         "range": [
          -716.6666666666667,
          31616.666666666668
         ],
         "title": {
          "text": "rent"
         },
         "type": "linear"
        }
       }
      },
      "image/png": "[encoded data removed]",
      "text/html": [
       "<div>                            <div id=\"5e8e4b27-8cd2-4dc9-8cf2-3dff05a9452a\" class=\"plotly-graph-div\" style=\"height:525px; width:100%;\"></div>            <script type=\"text/javascript\">                require([\"plotly\"], function(Plotly) {                    window.PLOTLYENV=window.PLOTLYENV || {};                                    if (document.getElementById(\"5e8e4b27-8cd2-4dc9-8cf2-3dff05a9452a\")) {                    Plotly.newPlot(                        \"5e8e4b27-8cd2-4dc9-8cf2-3dff05a9452a\",                        [{\"alignmentgroup\":\"True\",\"hovertemplate\":\"rent=%{y}<extra></extra>\",\"legendgroup\":\"\",\"marker\":{\"color\":\"#636efa\"},\"name\":\"\",\"notched\":false,\"offsetgroup\":\"\",\"orientation\":\"v\",\"showlegend\":false,\"x0\":\" \",\"xaxis\":\"x\",\"y\":[5500.0,13600.0,3683.333333,3650.0,28300.0,18000.0,16000.0,2100.0,1800.0,12000.0,2850.0,1000.0,2995.0,3267.0,29200.0,2850.0,3495.0,3000.0,1695.0,3100.0,2200.0,4000.0,2200.0,3000.0,2400.0,1450.0,6000.0,3100.0,2870.0,1600.0,3750.0,2600.0,4000.0,2400.0,2499.0,3500.0,1534.0,3375.0,2800.0,2300.0,2500.0,2500.0,2500.0,1995.0,1600.0,2950.0,1421.0,5500.0,3200.0,10000.0,2500.0,5000.0,1126.666667,5000.0,1875.0,2400.0,1535.0,4050.0,1740.0,1658.0,3000.0,1700.0,2800.0,10000.0,4800.0,2950.0,2280.0,4500.0,2000.0,3200.0,1450.0,2450.0,8000.0,2550.0,2000.0,2950.0,1400.0,1350.0,2500.0,2200.0,2100.0,2150.0,2100.0,3450.0,8000.0,2700.0,6500.0,2500.0,2856.0,2100.0,2337.0,2900.0,2650.0,2074.0,1000.0,1700.0,2400.0,2550.0,2500.0,1150.0,2200.0,6000.0,3250.0,1500.0,2200.0,1500.0,1750.0,5400.0,1800.0,5400.0,1300.0,1540.0,1800.0,1100.0,2300.0,2200.0,1400.0,1758.0,1165.0,2144.0,2652.0,1950.0,2002.0,2100.0,1950.0,2305.0,2300.0,1350.0,2200.0,1800.0,1900.0,2200.0,2600.0,1800.0,2346.0,1150.0,1819.0,2346.0,2188.0,1936.0,2300.0,2495.0,1516.666667,3000.0,2000.0,2200.0,2980.0,1632.0,4246.666667,1900.0,1950.0,1600.0,2790.0,1781.0,2600.0,1780.0,2500.0,3300.0,2600.0,2378.0,3000.0,2030.0,1845.0,1650.0,2500.0,3500.0,2080.0,2744.0,2600.0,3488.0,1900.0,2300.0,3420.0,2800.0,3800.0,2454.0,1775.0,3050.0,2646.0,2600.0,3500.0,7500.0,2157.0,2500.0,2400.0,2600.0,1500.0,3500.0,2955.0,2500.0,2500.0,2700.0,2400.0,2500.0,2890.0,4000.0,2836.0,2300.0,6500.0,2600.0,2500.0,1900.0,3400.0,2950.0,12240.0,2395.0,12600.0,7000.0,2400.0,3500.0,2245.0,2245.0,4500.0,4250.0,4250.0,5000.0,2409.0,2350.0,4500.0,4250.0,1650.0,2450.0,2550.0,3450.0,4000.0,3577.0,2900.0,5000.0,2160.0,3270.0,3000.0,3800.0,2650.0,2426.0,2500.0,3950.0,1800.0,1800.0,2500.0,2200.0,2750.0,1200.0,3000.0,2499.0,2300.0,1406.0,3000.0,2340.0,1511.0,1250.0,1634.0,3900.0,2250.0,1780.0,2629.0,2100.0,2500.0,2850.0,2350.0,1950.0,2800.0,1899.0,2750.0,2650.0,1650.0,1700.0,1450.0,3750.0,1276.0,2300.0,2200.0,5000.0,2700.0,2196.0,2250.0,2400.0,2200.0,3000.0,1930.0,4500.0,2642.0,3500.0,5350.0,3750.0,1350.0,2700.0,3264.0,3100.0,2487.0,1535.0,5500.0,2700.0,3270.0,1739.0,2000.0,1000.0,3300.0,3255.0,5500.0,1400.0,5600.0,3500.0,2036.0,3300.0,1895.0,900.0,2200.0,2700.0,1800.0,2100.0,1895.0,3700.0,1200.0,2900.0,3200.0,1652.0,6000.0,2700.0,3430.0,2400.0,3033.333333,2000.0,3500.0,2484.0,1900.0,2979.0,1400.0,1350.0,2600.0,1495.0,2500.0,1800.0,3500.0,2200.0,1660.0,15000.0,1744.0,1300.0,1550.0,2343.0,2600.0,10550.0,3310.0,2670.0,12500.0,1750.0,2600.0,1200.0,3900.0,1975.0,20000.0,3105.0,1495.0,1500.0,3011.666667,2300.0,2000.0,2600.0,2383.333333,3185.0,4500.0,3500.0,3250.0,3500.0,4000.0,3445.0,2700.0,2950.0,3141.666667,3250.0,4000.0,3150.0,3250.0,2250.0,2250.0,2040.0,1100.0,1432.0,2350.0,1850.0,1554.0,1273.0,3300.0,1350.0,2295.0,10000.0,1295.0,2600.0,1495.0,1900.0,2150.0,1500.0,1500.0,1850.0,2000.0,1453.0,5000.0,1650.0,3000.0,1203.0,1461.0,1196.0,4500.0,2600.0,2800.0,1696.0,1456.0,2500.0,1850.0,3300.0,4500.0,2200.0,2950.0,4000.0,2500.0,2489.0,2700.0,2700.0,10000.0,2300.0,2965.0,3410.0,3162.0,2800.0,2500.0,2150.0,4200.0,950.0,10000.0,8000.0,4500.0,8500.0,2040.0,1948.0,2200.0,4500.0,2400.0,3500.0,4250.0,10500.0,2650.0,2182.0,1850.0,3374.0,2200.0,2710.0,3600.0,1750.0,2000.0,2200.0,7500.0,8500.0,2700.0,2100.0,2960.0,3050.0,1900.0,1776.0,7500.0,3500.0,2166.666667,4200.0,1900.0,1900.0,1562.0,8500.0,1302.0,1100.0,3500.0,2366.0,3500.0,1600.0,15000.0,1300.0,1950.0,1650.0,3650.0,2090.0,2450.0,3200.0,2200.0,7350.0,1600.0,2148.0,30000.0,1275.0,8750.0,1400.0,2300.0,1100.0,2250.0,1850.0,1300.0,1886.0,2900.0,2800.0,3650.0,2400.0,5190.0,2687.0,1300.0,1620.0,2300.0,6000.0,1482.0,3500.0,2395.0,3750.0,3000.0,3550.0,3450.0,3200.0,1240.0,2800.0,2050.0,4250.0,3750.0,1600.0,3300.0,2750.0,2385.0,1923.0,2500.0,1600.0,1500.0,2500.0,2400.0,1500.0,13500.0,1285.0,1600.0,2500.0,1300.0,1435.0,1814.0,1741.0,2693.0,1750.0,2350.0,1989.0,1825.0,1746.0,2400.0,2645.0,2500.0,1800.0,2400.0,1350.0,3000.0,2900.0,900.0,2800.0,2600.0,3000.0,5000.0,3950.0,2890.0,3200.0,1700.0,2600.0,2000.0,1500.0,1500.0,3500.0,1900.0,2495.0,5000.0,3500.0,5500.0,2700.0,1950.0,3000.0,2000.0,1148.333333,4000.0,3500.0,1550.0,2990.0,3500.0,2800.0,4500.0,1800.0,2407.0,1475.0,1235.0,1700.0,2200.0,1525.0,5620.0,2600.0,2000.0,3250.0,1750.0,1800.0,14000.0,2400.0,2700.0,2400.0,2600.0,2000.0,2350.0,3500.0,2500.0,2300.0,2600.0,2200.0,1150.0,1130.0,2250.0,1686.0,1953.0,1600.0,1350.0,1200.0,2448.0,3445.0,2200.0,2339.0,3300.0,2599.0,4000.0,2383.333333,2000.0,1375.0,2500.0,1350.0,1425.0,2600.0,2040.0,1900.0,3057.0,3000.0,3250.0,1970.0,4000.0,1663.0,2115.0,6500.0,1150.0,1150.0,2465.0,6500.0,2470.0,1800.0,1500.0,4000.0,7080.0,5950.0,3079.0,2629.0,6591.0,1754.0,2410.0,1815.0,1880.0,3000.0,2065.0,2250.0,3000.0,3000.0,1880.0,2300.0,1900.0,2365.0,2400.0,1875.0,1850.0,1300.0,2125.0,2175.0,2500.0,2650.0,1925.0,2900.0,1900.0,2675.0,6200.0,1950.0,1990.0,2050.0,2423.0,4200.0,2575.0,3100.0,3500.0,2450.0,2025.0,2708.0,2825.0,2300.0,3400.0,2000.0,2264.0,1650.0,1300.0,3200.0,3250.0,2440.0,2400.0,3796.0,3953.0,4000.0,1700.0,2500.0,2600.0,2600.0,4450.0,2300.0,2000.0,9100.0,1850.0,2308.0,3450.0,2600.0,1990.0,1550.0,1126.666667,2000.0,4000.0,2431.0,2400.0,1400.0,2500.0,2800.0,1875.0,1800.0,3000.0,1083.333333,2555.0,5350.0,2800.0,2715.0,3500.0,3780.0,4500.0,2350.0,1800.0,2750.0,2200.0,2295.0,3380.0,1256.666667,2100.0,3200.0,2850.0,4140.0,1750.0,4500.0,2400.0,2000.0,3400.0,5500.0,2000.0,3000.0,1857.0,2458.0,8000.0,1371.0,2500.0,1805.0,1550.0,1250.0,2300.0,2100.0,2170.0,1800.0,2448.0,1758.0,2336.0,2200.0,2077.0,1900.0,2300.0,1155.0,2588.0,4000.0,1400.0,2200.0,1726.0,3400.0,2100.0,2400.0,3700.0,1450.0,1630.0,2500.0,3800.0,3800.0,1535.0,1300.0,1800.0,2192.0,4000.0,2770.0,1250.0,2500.0,2838.0,950.0,1863.3333333333333,1048.0,2200.0,1500.0,3000.0,4280.0,1800.0,4080.0,2350.0],\"y0\":\" \",\"yaxis\":\"y\",\"type\":\"box\"}],                        {\"template\":{\"data\":{\"histogram2dcontour\":[{\"type\":\"histogram2dcontour\",\"colorbar\":{\"outlinewidth\":0,\"ticks\":\"\"},\"colorscale\":[[0.0,\"#0d0887\"],[0.1111111111111111,\"#46039f\"],[0.2222222222222222,\"#7201a8\"],[0.3333333333333333,\"#9c179e\"],[0.4444444444444444,\"#bd3786\"],[0.5555555555555556,\"#d8576b\"],[0.6666666666666666,\"#ed7953\"],[0.7777777777777778,\"#fb9f3a\"],[0.8888888888888888,\"#fdca26\"],[1.0,\"#f0f921\"]]}],\"choropleth\":[{\"type\":\"choropleth\",\"colorbar\":{\"outlinewidth\":0,\"ticks\":\"\"}}],\"histogram2d\":[{\"type\":\"histogram2d\",\"colorbar\":{\"outlinewidth\":0,\"ticks\":\"\"},\"colorscale\":[[0.0,\"#0d0887\"],[0.1111111111111111,\"#46039f\"],[0.2222222222222222,\"#7201a8\"],[0.3333333333333333,\"#9c179e\"],[0.4444444444444444,\"#bd3786\"],[0.5555555555555556,\"#d8576b\"],[0.6666666666666666,\"#ed7953\"],[0.7777777777777778,\"#fb9f3a\"],[0.8888888888888888,\"#fdca26\"],[1.0,\"#f0f921\"]]}],\"heatmap\":[{\"type\":\"heatmap\",\"colorbar\":{\"outlinewidth\":0,\"ticks\":\"\"},\"colorscale\":[[0.0,\"#0d0887\"],[0.1111111111111111,\"#46039f\"],[0.2222222222222222,\"#7201a8\"],[0.3333333333333333,\"#9c179e\"],[0.4444444444444444,\"#bd3786\"],[0.5555555555555556,\"#d8576b\"],[0.6666666666666666,\"#ed7953\"],[0.7777777777777778,\"#fb9f3a\"],[0.8888888888888888,\"#fdca26\"],[1.0,\"#f0f921\"]]}],\"heatmapgl\":[{\"type\":\"heatmapgl\",\"colorbar\":{\"outlinewidth\":0,\"ticks\":\"\"},\"colorscale\":[[0.0,\"#0d0887\"],[0.1111111111111111,\"#46039f\"],[0.2222222222222222,\"#7201a8\"],[0.3333333333333333,\"#9c179e\"],[0.4444444444444444,\"#bd3786\"],[0.5555555555555556,\"#d8576b\"],[0.6666666666666666,\"#ed7953\"],[0.7777777777777778,\"#fb9f3a\"],[0.8888888888888888,\"#fdca26\"],[1.0,\"#f0f921\"]]}],\"contourcarpet\":[{\"type\":\"contourcarpet\",\"colorbar\":{\"outlinewidth\":0,\"ticks\":\"\"}}],\"contour\":[{\"type\":\"contour\",\"colorbar\":{\"outlinewidth\":0,\"ticks\":\"\"},\"colorscale\":[[0.0,\"#0d0887\"],[0.1111111111111111,\"#46039f\"],[0.2222222222222222,\"#7201a8\"],[0.3333333333333333,\"#9c179e\"],[0.4444444444444444,\"#bd3786\"],[0.5555555555555556,\"#d8576b\"],[0.6666666666666666,\"#ed7953\"],[0.7777777777777778,\"#fb9f3a\"],[0.8888888888888888,\"#fdca26\"],[1.0,\"#f0f921\"]]}],\"surface\":[{\"type\":\"surface\",\"colorbar\":{\"outlinewidth\":0,\"ticks\":\"\"},\"colorscale\":[[0.0,\"#0d0887\"],[0.1111111111111111,\"#46039f\"],[0.2222222222222222,\"#7201a8\"],[0.3333333333333333,\"#9c179e\"],[0.4444444444444444,\"#bd3786\"],[0.5555555555555556,\"#d8576b\"],[0.6666666666666666,\"#ed7953\"],[0.7777777777777778,\"#fb9f3a\"],[0.8888888888888888,\"#fdca26\"],[1.0,\"#f0f921\"]]}],\"mesh3d\":[{\"type\":\"mesh3d\",\"colorbar\":{\"outlinewidth\":0,\"ticks\":\"\"}}],\"scatter\":[{\"fillpattern\":{\"fillmode\":\"overlay\",\"size\":10,\"solidity\":0.2},\"type\":\"scatter\"}],\"parcoords\":[{\"type\":\"parcoords\",\"line\":{\"colorbar\":{\"outlinewidth\":0,\"ticks\":\"\"}}}],\"scatterpolargl\":[{\"type\":\"scatterpolargl\",\"marker\":{\"colorbar\":{\"outlinewidth\":0,\"ticks\":\"\"}}}],\"bar\":[{\"error_x\":{\"color\":\"#2a3f5f\"},\"error_y\":{\"color\":\"#2a3f5f\"},\"marker\":{\"line\":{\"color\":\"#E5ECF6\",\"width\":0.5},\"pattern\":{\"fillmode\":\"overlay\",\"size\":10,\"solidity\":0.2}},\"type\":\"bar\"}],\"scattergeo\":[{\"type\":\"scattergeo\",\"marker\":{\"colorbar\":{\"outlinewidth\":0,\"ticks\":\"\"}}}],\"scatterpolar\":[{\"type\":\"scatterpolar\",\"marker\":{\"colorbar\":{\"outlinewidth\":0,\"ticks\":\"\"}}}],\"histogram\":[{\"marker\":{\"pattern\":{\"fillmode\":\"overlay\",\"size\":10,\"solidity\":0.2}},\"type\":\"histogram\"}],\"scattergl\":[{\"type\":\"scattergl\",\"marker\":{\"colorbar\":{\"outlinewidth\":0,\"ticks\":\"\"}}}],\"scatter3d\":[{\"type\":\"scatter3d\",\"line\":{\"colorbar\":{\"outlinewidth\":0,\"ticks\":\"\"}},\"marker\":{\"colorbar\":{\"outlinewidth\":0,\"ticks\":\"\"}}}],\"scattermapbox\":[{\"type\":\"scattermapbox\",\"marker\":{\"colorbar\":{\"outlinewidth\":0,\"ticks\":\"\"}}}],\"scatterternary\":[{\"type\":\"scatterternary\",\"marker\":{\"colorbar\":{\"outlinewidth\":0,\"ticks\":\"\"}}}],\"scattercarpet\":[{\"type\":\"scattercarpet\",\"marker\":{\"colorbar\":{\"outlinewidth\":0,\"ticks\":\"\"}}}],\"carpet\":[{\"aaxis\":{\"endlinecolor\":\"#2a3f5f\",\"gridcolor\":\"white\",\"linecolor\":\"white\",\"minorgridcolor\":\"white\",\"startlinecolor\":\"#2a3f5f\"},\"baxis\":{\"endlinecolor\":\"#2a3f5f\",\"gridcolor\":\"white\",\"linecolor\":\"white\",\"minorgridcolor\":\"white\",\"startlinecolor\":\"#2a3f5f\"},\"type\":\"carpet\"}],\"table\":[{\"cells\":{\"fill\":{\"color\":\"#EBF0F8\"},\"line\":{\"color\":\"white\"}},\"header\":{\"fill\":{\"color\":\"#C8D4E3\"},\"line\":{\"color\":\"white\"}},\"type\":\"table\"}],\"barpolar\":[{\"marker\":{\"line\":{\"color\":\"#E5ECF6\",\"width\":0.5},\"pattern\":{\"fillmode\":\"overlay\",\"size\":10,\"solidity\":0.2}},\"type\":\"barpolar\"}],\"pie\":[{\"automargin\":true,\"type\":\"pie\"}]},\"layout\":{\"autotypenumbers\":\"strict\",\"colorway\":[\"#636efa\",\"#EF553B\",\"#00cc96\",\"#ab63fa\",\"#FFA15A\",\"#19d3f3\",\"#FF6692\",\"#B6E880\",\"#FF97FF\",\"#FECB52\"],\"font\":{\"color\":\"#2a3f5f\"},\"hovermode\":\"closest\",\"hoverlabel\":{\"align\":\"left\"},\"paper_bgcolor\":\"white\",\"plot_bgcolor\":\"#E5ECF6\",\"polar\":{\"bgcolor\":\"#E5ECF6\",\"angularaxis\":{\"gridcolor\":\"white\",\"linecolor\":\"white\",\"ticks\":\"\"},\"radialaxis\":{\"gridcolor\":\"white\",\"linecolor\":\"white\",\"ticks\":\"\"}},\"ternary\":{\"bgcolor\":\"#E5ECF6\",\"aaxis\":{\"gridcolor\":\"white\",\"linecolor\":\"white\",\"ticks\":\"\"},\"baxis\":{\"gridcolor\":\"white\",\"linecolor\":\"white\",\"ticks\":\"\"},\"caxis\":{\"gridcolor\":\"white\",\"linecolor\":\"white\",\"ticks\":\"\"}},\"coloraxis\":{\"colorbar\":{\"outlinewidth\":0,\"ticks\":\"\"}},\"colorscale\":{\"sequential\":[[0.0,\"#0d0887\"],[0.1111111111111111,\"#46039f\"],[0.2222222222222222,\"#7201a8\"],[0.3333333333333333,\"#9c179e\"],[0.4444444444444444,\"#bd3786\"],[0.5555555555555556,\"#d8576b\"],[0.6666666666666666,\"#ed7953\"],[0.7777777777777778,\"#fb9f3a\"],[0.8888888888888888,\"#fdca26\"],[1.0,\"#f0f921\"]],\"sequentialminus\":[[0.0,\"#0d0887\"],[0.1111111111111111,\"#46039f\"],[0.2222222222222222,\"#7201a8\"],[0.3333333333333333,\"#9c179e\"],[0.4444444444444444,\"#bd3786\"],[0.5555555555555556,\"#d8576b\"],[0.6666666666666666,\"#ed7953\"],[0.7777777777777778,\"#fb9f3a\"],[0.8888888888888888,\"#fdca26\"],[1.0,\"#f0f921\"]],\"diverging\":[[0,\"#8e0152\"],[0.1,\"#c51b7d\"],[0.2,\"#de77ae\"],[0.3,\"#f1b6da\"],[0.4,\"#fde0ef\"],[0.5,\"#f7f7f7\"],[0.6,\"#e6f5d0\"],[0.7,\"#b8e186\"],[0.8,\"#7fbc41\"],[0.9,\"#4d9221\"],[1,\"#276419\"]]},\"xaxis\":{\"gridcolor\":\"white\",\"linecolor\":\"white\",\"ticks\":\"\",\"title\":{\"standoff\":15},\"zerolinecolor\":\"white\",\"automargin\":true,\"zerolinewidth\":2},\"yaxis\":{\"gridcolor\":\"white\",\"linecolor\":\"white\",\"ticks\":\"\",\"title\":{\"standoff\":15},\"zerolinecolor\":\"white\",\"automargin\":true,\"zerolinewidth\":2},\"scene\":{\"xaxis\":{\"backgroundcolor\":\"#E5ECF6\",\"gridcolor\":\"white\",\"linecolor\":\"white\",\"showbackground\":true,\"ticks\":\"\",\"zerolinecolor\":\"white\",\"gridwidth\":2},\"yaxis\":{\"backgroundcolor\":\"#E5ECF6\",\"gridcolor\":\"white\",\"linecolor\":\"white\",\"showbackground\":true,\"ticks\":\"\",\"zerolinecolor\":\"white\",\"gridwidth\":2},\"zaxis\":{\"backgroundcolor\":\"#E5ECF6\",\"gridcolor\":\"white\",\"linecolor\":\"white\",\"showbackground\":true,\"ticks\":\"\",\"zerolinecolor\":\"white\",\"gridwidth\":2}},\"shapedefaults\":{\"line\":{\"color\":\"#2a3f5f\"}},\"annotationdefaults\":{\"arrowcolor\":\"#2a3f5f\",\"arrowhead\":0,\"arrowwidth\":1},\"geo\":{\"bgcolor\":\"white\",\"landcolor\":\"#E5ECF6\",\"subunitcolor\":\"white\",\"showland\":true,\"showlakes\":true,\"lakecolor\":\"white\"},\"title\":{\"x\":0.05},\"mapbox\":{\"style\":\"light\"}}},\"xaxis\":{\"anchor\":\"y\",\"domain\":[0.0,1.0]},\"yaxis\":{\"anchor\":\"x\",\"domain\":[0.0,1.0],\"title\":{\"text\":\"rent\"}},\"legend\":{\"tracegroupgap\":0},\"margin\":{\"t\":60},\"boxmode\":\"group\"},                        {\"responsive\": true}                    ).then(function(){\n",
       "                            \n",
       "var gd = document.getElementById('5e8e4b27-8cd2-4dc9-8cf2-3dff05a9452a');\n",
       "var x = new MutationObserver(function (mutations, observer) {{\n",
       "        var display = window.getComputedStyle(gd).display;\n",
       "        if (!display || display === 'none') {{\n",
       "            console.log([gd, 'removed!']);\n",
       "            Plotly.purge(gd);\n",
       "            observer.disconnect();\n",
       "        }}\n",
       "}});\n",
       "\n",
       "// Listen for the removal of the full notebook cells\n",
       "var notebookContainer = gd.closest('#notebook-container');\n",
       "if (notebookContainer) {{\n",
       "    x.observe(notebookContainer, {childList: true});\n",
       "}}\n",
       "\n",
       "// Listen for the clearing of the current output cell\n",
       "var outputEl = gd.closest('.output');\n",
       "if (outputEl) {{\n",
       "    x.observe(outputEl, {childList: true});\n",
       "}}\n",
       "\n",
       "                        })                };                });            </script>        </div>"
      ]
     },
     "metadata": {},
     "output_type": "display_data"
    }
   ],
   "source": [
    "fig = px.box(df, y='rent')\n",
    "\n",
    "fig.show()\n",
    "\n"
   ]
  },
  {
   "cell_type": "code",
   "execution_count": 443,
   "id": "521793b0-90d7-4e8e-9a66-e960228cbdc1",
   "metadata": {
    "tags": []
   },
   "outputs": [
    {
     "name": "stdout",
     "output_type": "stream",
     "text": [
      "number of outliers: 61\n",
      "max outlier value: 30000.0\n",
      "min outlier value: 5190.0\n"
     ]
    }
   ],
   "source": [
    "def find_outliers_IQR(df):\n",
    "\n",
    "   q1 = df.quantile(0.25)\n",
    "\n",
    "   q3 = df.quantile(0.75)\n",
    "\n",
    "   IQR = q3 - q1\n",
    "\n",
    "   outliers = df[((df<(q1-1.5*IQR)) | (df>(q3+1.5*IQR)))]\n",
    "\n",
    "   return outliers\n",
    "\n",
    "outliers = find_outliers_IQR(df['rent'])\n",
    "\n",
    "print('Number of Outliers: '+ str(len(outliers)))\n",
    "print('Max Outlier Value: '+ str(outliers.max()))\n",
    "print('Min Outlier Value: '+ str(outliers.min()))\n"
   ]
  },
  {
   "cell_type": "code",
   "execution_count": 444,
   "id": "533887cd-3b44-47d3-9283-4fc51f67f116",
   "metadata": {
    "tags": []
   },
   "outputs": [
    {
     "data": {
      "text/plain": [
       "(746, 19)"
      ]
     },
     "execution_count": 444,
     "metadata": {},
     "output_type": "execute_result"
    }
   ],
   "source": [
    "df_outliers = df[df['rent'] >= outliers.min()].sort_values(by='rent')\n",
    "df = df.drop(df_outliers.index)\n",
    "df.shape"
   ]
  },
  {
   "cell_type": "code",
   "execution_count": 445,
   "id": "dd2b8e7e-dc8c-4003-8b75-f0b3cac48792",
   "metadata": {
    "tags": []
   },
   "outputs": [
    {
     "data": {
      "text/html": [
       "<div>\n",
       "<style scoped>\n",
       "    .dataframe tbody tr th:only-of-type {\n",
       "        vertical-align: middle;\n",
       "    }\n",
       "\n",
       "    .dataframe tbody tr th {\n",
       "        vertical-align: top;\n",
       "    }\n",
       "\n",
       "    .dataframe thead th {\n",
       "        text-align: right;\n",
       "    }\n",
       "</style>\n",
       "<table border=\"1\" class=\"dataframe\">\n",
       "  <thead>\n",
       "    <tr style=\"text-align: right;\">\n",
       "      <th></th>\n",
       "      <th>rent</th>\n",
       "      <th>num_bedroom</th>\n",
       "      <th>num_bathroom</th>\n",
       "      <th>distance_from_city_centre</th>\n",
       "    </tr>\n",
       "  </thead>\n",
       "  <tbody>\n",
       "    <tr>\n",
       "      <th>count</th>\n",
       "      <td>746.000000</td>\n",
       "      <td>746.000000</td>\n",
       "      <td>746.000000</td>\n",
       "      <td>746.000000</td>\n",
       "    </tr>\n",
       "    <tr>\n",
       "      <th>mean</th>\n",
       "      <td>2453.531725</td>\n",
       "      <td>1.865952</td>\n",
       "      <td>1.423592</td>\n",
       "      <td>5.652079</td>\n",
       "    </tr>\n",
       "    <tr>\n",
       "      <th>std</th>\n",
       "      <td>839.076588</td>\n",
       "      <td>1.032749</td>\n",
       "      <td>0.853060</td>\n",
       "      <td>4.738779</td>\n",
       "    </tr>\n",
       "    <tr>\n",
       "      <th>min</th>\n",
       "      <td>900.000000</td>\n",
       "      <td>0.000000</td>\n",
       "      <td>0.000000</td>\n",
       "      <td>0.165881</td>\n",
       "    </tr>\n",
       "    <tr>\n",
       "      <th>25%</th>\n",
       "      <td>1846.250000</td>\n",
       "      <td>1.000000</td>\n",
       "      <td>1.000000</td>\n",
       "      <td>2.025116</td>\n",
       "    </tr>\n",
       "    <tr>\n",
       "      <th>50%</th>\n",
       "      <td>2380.666667</td>\n",
       "      <td>2.000000</td>\n",
       "      <td>1.000000</td>\n",
       "      <td>3.710035</td>\n",
       "    </tr>\n",
       "    <tr>\n",
       "      <th>75%</th>\n",
       "      <td>2953.750000</td>\n",
       "      <td>2.000000</td>\n",
       "      <td>2.000000</td>\n",
       "      <td>8.918340</td>\n",
       "    </tr>\n",
       "    <tr>\n",
       "      <th>max</th>\n",
       "      <td>5000.000000</td>\n",
       "      <td>5.000000</td>\n",
       "      <td>5.000000</td>\n",
       "      <td>30.067830</td>\n",
       "    </tr>\n",
       "  </tbody>\n",
       "</table>\n",
       "</div>"
      ],
      "text/plain": [
       "              rent  num_bedroom  num_bathroom  distance_from_city_centre\n",
       "count   746.000000   746.000000    746.000000                 746.000000\n",
       "mean   2453.531725     1.865952      1.423592                   5.652079\n",
       "std     839.076588     1.032749      0.853060                   4.738779\n",
       "min     900.000000     0.000000      0.000000                   0.165881\n",
       "25%    1846.250000     1.000000      1.000000                   2.025116\n",
       "50%    2380.666667     2.000000      1.000000                   3.710035\n",
       "75%    2953.750000     2.000000      2.000000                   8.918340\n",
       "max    5000.000000     5.000000      5.000000                  30.067830"
      ]
     },
     "execution_count": 445,
     "metadata": {},
     "output_type": "execute_result"
    }
   ],
   "source": [
    "df.describe()[['rent','num_bedroom', 'num_bathroom','distance_from_city_centre']]"
   ]
  },
  {
   "cell_type": "markdown",
   "id": "b5adbcf3-6c7a-4086-b18f-e68115d6a790",
   "metadata": {},
   "source": [
    "# Correlation\n",
    "\n",
    "- Bedroom and Bathroom have very high correlation with Rent prices, which makes a lot of sense.\n",
    "- Distance From City Center has negative correlation, which makes sense as property prices tend to decrease the further you are from the city centre\n",
    "- Distance From City Center has a considerable positive correlation with number of bedroom and bathrooms. The further away from the city center, the bigger the properties tend to be."
   ]
  },
  {
   "cell_type": "code",
   "execution_count": 449,
   "id": "93ee9ab1-ad26-4a9e-bda6-f4aad6796ce5",
   "metadata": {
    "tags": []
   },
   "outputs": [
    {
     "data": {
      "text/html": [
       "<div>\n",
       "<style scoped>\n",
       "    .dataframe tbody tr th:only-of-type {\n",
       "        vertical-align: middle;\n",
       "    }\n",
       "\n",
       "    .dataframe tbody tr th {\n",
       "        vertical-align: top;\n",
       "    }\n",
       "\n",
       "    .dataframe thead th {\n",
       "        text-align: right;\n",
       "    }\n",
       "</style>\n",
       "<table border=\"1\" class=\"dataframe\">\n",
       "  <thead>\n",
       "    <tr style=\"text-align: right;\">\n",
       "      <th></th>\n",
       "      <th>rent</th>\n",
       "      <th>num_bedroom</th>\n",
       "      <th>num_bathroom</th>\n",
       "      <th>distance_from_city_centre</th>\n",
       "    </tr>\n",
       "  </thead>\n",
       "  <tbody>\n",
       "    <tr>\n",
       "      <th>rent</th>\n",
       "      <td>1.000000</td>\n",
       "      <td>0.663569</td>\n",
       "      <td>0.635249</td>\n",
       "      <td>-0.017937</td>\n",
       "    </tr>\n",
       "    <tr>\n",
       "      <th>num_bedroom</th>\n",
       "      <td>0.663569</td>\n",
       "      <td>1.000000</td>\n",
       "      <td>0.736444</td>\n",
       "      <td>0.265639</td>\n",
       "    </tr>\n",
       "    <tr>\n",
       "      <th>num_bathroom</th>\n",
       "      <td>0.635249</td>\n",
       "      <td>0.736444</td>\n",
       "      <td>1.000000</td>\n",
       "      <td>0.277171</td>\n",
       "    </tr>\n",
       "    <tr>\n",
       "      <th>distance_from_city_centre</th>\n",
       "      <td>-0.017937</td>\n",
       "      <td>0.265639</td>\n",
       "      <td>0.277171</td>\n",
       "      <td>1.000000</td>\n",
       "    </tr>\n",
       "  </tbody>\n",
       "</table>\n",
       "</div>"
      ],
      "text/plain": [
       "                               rent  num_bedroom  num_bathroom  \\\n",
       "rent                       1.000000     0.663569      0.635249   \n",
       "num_bedroom                0.663569     1.000000      0.736444   \n",
       "num_bathroom               0.635249     0.736444      1.000000   \n",
       "distance_from_city_centre -0.017937     0.265639      0.277171   \n",
       "\n",
       "                           distance_from_city_centre  \n",
       "rent                                       -0.017937  \n",
       "num_bedroom                                 0.265639  \n",
       "num_bathroom                                0.277171  \n",
       "distance_from_city_centre                   1.000000  "
      ]
     },
     "execution_count": 449,
     "metadata": {},
     "output_type": "execute_result"
    }
   ],
   "source": [
    "correlation = df[['rent','num_bedroom', 'num_bathroom','distance_from_city_centre']].corr(numeric_only=True)\n",
    "correlation "
   ]
  },
  {
   "cell_type": "code",
   "execution_count": 447,
   "id": "688b6413-6a3e-4b4d-8c32-3f88a1ef9f59",
   "metadata": {
    "tags": []
   },
   "outputs": [],
   "source": [
    "df.to_csv(r'C:\\Users\\Odafaz\\Desktop\\Daft Project\\daft_listing_final.csv', encoding ='utf-8')"
   ]
  },
  {
   "cell_type": "code",
   "execution_count": null,
   "id": "3690e45a-1b8c-43c4-8211-92ece3a8f777",
   "metadata": {},
   "outputs": [],
   "source": []
  }
 ],
 "metadata": {
  "kernelspec": {
   "display_name": "Python 3 (ipykernel)",
   "language": "python",
   "name": "python3"
  },
  "language_info": {
   "codemirror_mode": {
    "name": "ipython",
    "version": 3
   },
   "file_extension": ".py",
   "mimetype": "text/x-python",
   "name": "python",
   "nbconvert_exporter": "python",
   "pygments_lexer": "ipython3",
   "version": "3.10.9"
  }
 },
 "nbformat": 4,
 "nbformat_minor": 5
}
